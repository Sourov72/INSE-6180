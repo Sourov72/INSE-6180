{
 "cells": [
  {
   "cell_type": "code",
   "execution_count": null,
   "metadata": {},
   "outputs": [],
   "source": [
    "from xgboost import XGBClassifier"
   ]
  },
  {
   "cell_type": "code",
   "execution_count": null,
   "metadata": {},
   "outputs": [],
   "source": [
    "xg_xtrain = X_train.copy()\n",
    "# Assuming X_train is your DataFrame\n",
    "xg_xtrain.drop(columns=['IPV4_SRC_ADDR', 'IPV4_DST_ADDR', 'h'], inplace=True)\n"
   ]
  },
  {
   "cell_type": "code",
   "execution_count": null,
   "metadata": {},
   "outputs": [],
   "source": [
    "xg_xtest = X_test.copy()\n",
    "xg_xtest.drop(columns=['IPV4_SRC_ADDR', 'IPV4_DST_ADDR', 'h'], inplace=True)"
   ]
  },
  {
   "cell_type": "code",
   "execution_count": null,
   "metadata": {},
   "outputs": [],
   "source": [
    "from xgboost import XGBClassifier, DMatrix\n",
    "import pandas as pd\n",
    "\n",
    "class XGBClassifierWithNames(XGBClassifier):\n",
    "    def fit(self, X, y):\n",
    "        self.feature_names = X.columns.tolist()\n",
    "        super().fit(X, y)\n",
    "\n",
    "# Assuming xg_xtrain is your training data in DMatrix format\n",
    "model = XGBClassifierWithNames()\n",
    "model.fit(xg_xtrain, y_train['Label'])\n",
    "\n",
    "# You can now access the feature names using model.feature_names\n",
    "# print(\"Feature names:\", model.feature_names)"
   ]
  },
  {
   "cell_type": "code",
   "execution_count": null,
   "metadata": {},
   "outputs": [],
   "source": [
    "from numpy import sort"
   ]
  },
  {
   "cell_type": "code",
   "execution_count": null,
   "metadata": {},
   "outputs": [],
   "source": [
    "thresholds = sort(model.feature_importances_)\n",
    "print(thresholds)"
   ]
  },
  {
   "cell_type": "code",
   "execution_count": null,
   "metadata": {},
   "outputs": [],
   "source": [
    "from sklearn.feature_selection import SelectFromModel"
   ]
  },
  {
   "cell_type": "code",
   "execution_count": null,
   "metadata": {},
   "outputs": [],
   "source": [
    "selection = SelectFromModel(model, threshold=2.3209294e-03, prefit=True, max_features=100)\n",
    "X_train_selected = pd.DataFrame(selection.transform(xg_xtrain), columns=xg_xtrain.columns[selection.get_support()])\n",
    "\n",
    "X_train_selected.head(1)\n",
    "\n",
    "X_test_selected = pd.DataFrame(selection.transform(xg_xtest), columns=xg_xtest.columns[selection.get_support()])"
   ]
  },
  {
   "cell_type": "code",
   "execution_count": null,
   "metadata": {},
   "outputs": [],
   "source": [
    "\n",
    "X_first_subset = X_train.iloc[:, :2].copy()\n",
    "\n",
    "\n",
    "X_second_subset = X_train_selected.copy()\n",
    "\n",
    "\n",
    "X_first_subset.reset_index(drop=True, inplace=True)\n",
    "X_second_subset.reset_index(drop=True, inplace=True) \n",
    "\n",
    "X_train = pd.concat([X_first_subset, X_second_subset], axis=1)\n",
    "\n",
    "\n",
    "\n",
    "X_train['h'] = X_train.iloc[:, 2:].values.tolist()\n",
    "\n",
    "# print(X_train.shape)\n",
    "\n",
    "\n",
    "\n",
    "# # Transform on testing set\n",
    "# X_test[cols_to_norm] = scaler.transform(X_test[cols_to_norm])\n",
    "# X_test['h'] = X_test.iloc[:, 2:].values.tolist()\n",
    "\n",
    "X_first_subset = X_test.iloc[:, :2].copy()\n",
    "X_second_subset = X_test_selected.copy()\n",
    "\n",
    "\n",
    "\n",
    "X_first_subset.reset_index(drop=True, inplace=True)\n",
    "X_second_subset.reset_index(drop=True, inplace=True) \n",
    "\n",
    "print(X_first_subset.columns)\n",
    "print(X_second_subset.columns)\n",
    "\n",
    "X_test = pd.concat([X_first_subset, X_second_subset], axis=1)\n",
    "X_test['h'] = X_test.iloc[:, 2:].values.tolist()\n",
    "\n",
    "X_train.reset_index(drop=True, inplace=True)\n",
    "y_train.reset_index(drop=True, inplace=True)\n",
    "X_test.reset_index(drop=True, inplace=True)\n",
    "y_test.reset_index(drop=True, inplace=True)\n",
    "train = pd.concat([X_train, y_train], axis=1)\n",
    "test = pd.concat([X_test, y_test], axis=1)\n",
    "\n",
    "# print(y_train.shape)"
   ]
  }
 ],
 "metadata": {
  "language_info": {
   "name": "python"
  }
 },
 "nbformat": 4,
 "nbformat_minor": 2
}
