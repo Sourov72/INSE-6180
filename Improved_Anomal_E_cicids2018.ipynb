{
 "cells": [
  {
   "cell_type": "markdown",
   "metadata": {
    "id": "Hjc3iIihKLn-"
   },
   "source": [
    "# 1. Libraries, global constants and settings"
   ]
  },
  {
   "cell_type": "code",
   "execution_count": 80,
   "metadata": {},
   "outputs": [],
   "source": [
    "# standard imports\n",
    "import gc  # used to manage memory by automatically reclaiming memory occupied by objects that are no longer in use\n",
    "import itertools\n",
    "import math  # used for mathematical operations\n",
    "import random  # used for generating random numbers\n",
    "import socket  # used for network-related operations, possibly for handling IP addresses\n",
    "import struct  # used for network-related operations, possibly for handling IP addresses\n",
    "import time  # used for timing\n",
    "from typing import *  # type hinting, helps with code readability and error checking\n",
    "import warnings\n",
    "\n",
    "# installed imports\n",
    "import category_encoders as ce  # for encoding categorical variables into numerical variables\n",
    "import dgl  # deep graph library, used for neural networks\n",
    "import dgl.function as fn  # provides functions specific to graph operations in DGL\n",
    "from dgl.data import DGLDataset  # deep graph library, used for neural networks\n",
    "import matplotlib.pyplot as plt  # for plotting graphs\n",
    "import networkx as nx  # for the creation, manipulation and study of complex networks\n",
    "import numpy as np  # for numerical operations\n",
    "import pandas as pd  # for data manipulation and analysis\n",
    "from pyod.models.cblof import CBLOF  # clasification model\n",
    "from pyod.models.hbos import HBOS  # clasification model\n",
    "from pyod.models.pca import PCA  # clasification model\n",
    "import torch  # ML library used for building and training neural networks, fundamental for operations involving tensors\n",
    "import torch.nn as nn  # for accessing PyTorch's neural network functionalities, like layers and activation functions\n",
    "import torch.nn.functional as F  # provides functions like activation functions, loss functions, etc.\n",
    "import torch.optim as optim\n",
    "import seaborn as sns\n",
    "from sklearn import preprocessing  # ML library used for data preprocessing, like feature scaling\n",
    "from sklearn.ensemble import IsolationForest  # clasification model\n",
    "from sklearn.model_selection import train_test_split  # to split the data into training and testing sets\n",
    "from sklearn.metrics import classification_report, f1_score\n",
    "from sklearn.preprocessing import Normalizer, StandardScaler  # for data normalization and scaling\n",
    "# import tqdm  \n",
    "from tqdm import tqdm  # for displaying progress bars for loops\n",
    "\n",
    "\n",
    "# datata balancing\n",
    "from imblearn.over_sampling import RandomOverSampler   \n",
    "from imblearn.over_sampling import SMOTE\n",
    "from sklearn.utils import shuffle\n",
    "\n",
    "# xgboost\n",
    "from numpy import sort\n",
    "from sklearn.feature_selection import SelectFromModel\n",
    "from xgboost import XGBClassifier, DMatrix\n"
   ]
  },
  {
   "cell_type": "code",
   "execution_count": 2,
   "metadata": {},
   "outputs": [],
   "source": [
    "# global constants\n",
    "SEED = 13\n",
    "FILE_NAME = \"NF-CSE-CIC-IDS2018-v2.csv\"\n",
    "POURCENTAGE_DATASET_REMAINING = 0.01\n",
    "TEST_SET_SIZE = 0.3"
   ]
  },
  {
   "cell_type": "code",
   "execution_count": 3,
   "metadata": {},
   "outputs": [],
   "source": [
    "# hide the warning information\n",
    "warnings.filterwarnings(\"ignore\", category=DeprecationWarning)\n",
    "warnings.filterwarnings(\"ignore\", category=FutureWarning)\n",
    "warnings.filterwarnings(\"ignore\", category=UserWarning)"
   ]
  },
  {
   "cell_type": "markdown",
   "metadata": {},
   "source": [
    "# 2. Functions"
   ]
  },
  {
   "cell_type": "markdown",
   "metadata": {},
   "source": [
    "## 2.1. Data Plotting Functions"
   ]
  },
  {
   "cell_type": "code",
   "execution_count": 4,
   "metadata": {},
   "outputs": [],
   "source": [
    "def show_label_distribution(df: pd.DataFrame, label_column_name: str):\n",
    "    \"\"\"Display a histogram to show the distribution of the label_column_name in the given DataFrame.\n",
    "    \n",
    "    Args:\n",
    "        df: The DataFrame containing the 'Label' column.\n",
    "        label_column_name: The name of the column to show the distribution\n",
    "    \"\"\"\n",
    "    # Create the histogram\n",
    "    plt.hist(df[label_column_name],\n",
    "             bins=np.arange(len(df[label_column_name].unique()) + 1) - 0.5,\n",
    "             rwidth=0.8,\n",
    "             color='skyblue')  # Adjust the number of bins and color as needed\n",
    "\n",
    "    # Label the axes and add a title\n",
    "    plt.xlabel(label_column_name)\n",
    "    plt.ylabel('Frequency')\n",
    "    plt.title(f\"The Distribution of the {label_column_name}\")\n",
    "    plt.xticks(rotation=90)\n",
    "\n",
    "    # Display the histogram\n",
    "    plt.show()\n",
    "\n",
    "    print(df[label_column_name].value_counts())"
   ]
  },
  {
   "cell_type": "code",
   "execution_count": 5,
   "metadata": {},
   "outputs": [
    {
     "data": {
      "text/plain": [
       "\"\\n\\ndef balance_data(x, y):\\n\\n    # initialise an instance of RandomOverSampler\\n    ros = RandomOverSampler(random_state=SEED)\\n    # balance the data\\n    x_over, y_over = ros.fit_resample(x, y.astype('int'))\\n\\n    return x_over, y_over\\n\\n\""
      ]
     },
     "execution_count": 5,
     "metadata": {},
     "output_type": "execute_result"
    }
   ],
   "source": [
    "\"\"\"\n",
    "\n",
    "def balance_data(x, y):\n",
    "\n",
    "    # initialise an instance of RandomOverSampler\n",
    "    ros = RandomOverSampler(random_state=SEED)\n",
    "    # balance the data\n",
    "    x_over, y_over = ros.fit_resample(x, y.astype('int'))\n",
    "\n",
    "    return x_over, y_over\n",
    "\n",
    "\"\"\""
   ]
  },
  {
   "cell_type": "code",
   "execution_count": null,
   "metadata": {},
   "outputs": [],
   "source": []
  },
  {
   "cell_type": "markdown",
   "metadata": {},
   "source": [
    "## 2.2. Utility Functions"
   ]
  },
  {
   "cell_type": "code",
   "execution_count": 6,
   "metadata": {},
   "outputs": [
    {
     "name": "stdout",
     "output_type": "stream",
     "text": [
      "CUDA is available. Using GPU.\n"
     ]
    }
   ],
   "source": [
    "def enable_cuda():\n",
    "    \"\"\"Check for CUDA availability and return the appropriate device.\"\"\"\n",
    "    if torch.cuda.is_available():\n",
    "        print(\"CUDA is available. Using GPU.\")\n",
    "        return torch.device(\"cuda\")\n",
    "    else:\n",
    "        print(\"CUDA is not available. Using CPU.\")\n",
    "        return torch.device(\"cpu\")\n",
    "\n",
    "device = enable_cuda()"
   ]
  },
  {
   "cell_type": "markdown",
   "metadata": {},
   "source": [
    "# 3. Classes for the GNN Model"
   ]
  },
  {
   "cell_type": "markdown",
   "metadata": {},
   "source": [
    "## 3.1. SAGELayer"
   ]
  },
  {
   "cell_type": "code",
   "execution_count": 7,
   "metadata": {},
   "outputs": [],
   "source": [
    "class SAGELayer(nn.Module):\n",
    "    def __init__(self, ndim_in, edims, ndim_out, activation):\n",
    "        super(SAGELayer, self).__init__()\n",
    "        self.W_apply = nn.Linear(ndim_in + edims , ndim_out)\n",
    "        self.activation = F.relu\n",
    "        self.W_edge = nn.Linear(128 * 2, 256)\n",
    "        self.reset_parameters()\n",
    "\n",
    "    def reset_parameters(self):\n",
    "        gain = nn.init.calculate_gain('relu')\n",
    "        nn.init.xavier_uniform_(self.W_apply.weight, gain=gain)\n",
    "\n",
    "    def message_func(self, edges):\n",
    "        return {'m':  edges.data['h']}\n",
    "\n",
    "    def forward(self, g_dgl, nfeats, efeats):\n",
    "        with g_dgl.local_scope():\n",
    "            g = g_dgl\n",
    "            g.ndata['h'] = nfeats\n",
    "            g.edata['h'] = efeats\n",
    "            g.update_all(self.message_func, fn.mean('m', 'h_neigh'))\n",
    "            \n",
    "            # print(\"Shape of g.ndata['h']: \", g.ndata['h'].shape)\n",
    "            # print(\"Shape of g.ndata['h_neigh']: \", g.ndata['h_neigh'].shape)\n",
    "            g.ndata['h'] = F.relu(self.W_apply(torch.cat([g.ndata['h'], g.ndata['h_neigh']], 2)))\n",
    "\n",
    "            # Compute edge embeddings\n",
    "            u, v = g.edges()\n",
    "            edge = self.W_edge(torch.cat((g.srcdata['h'][u], g.dstdata['h'][v]), 2))\n",
    "            return g.ndata['h'], edge"
   ]
  },
  {
   "cell_type": "markdown",
   "metadata": {},
   "source": [
    "## 3.2. SAGE Encoder for Graph Embeddings"
   ]
  },
  {
   "cell_type": "code",
   "execution_count": 8,
   "metadata": {},
   "outputs": [],
   "source": [
    "class SAGE(nn.Module):\n",
    "    def __init__(self, ndim_in, ndim_out, edim,  activation):\n",
    "        super(SAGE, self).__init__()\n",
    "        self.layers = nn.ModuleList()\n",
    "        self.layers.append(SAGELayer(ndim_in, edim, 128, F.relu))\n",
    "\n",
    "    def forward(self, g, nfeats, efeats, corrupt=False):\n",
    "        if corrupt:\n",
    "            e_perm = torch.randperm(g.number_of_edges())\n",
    "            #n_perm = torch.randperm(g.number_of_nodes())\n",
    "            efeats = efeats[e_perm]\n",
    "            #nfeats = nfeats[n_perm]\n",
    "        for i, layer in enumerate(self.layers):\n",
    "            #nfeats = layer(g, nfeats, efeats)\n",
    "            nfeats, e_feats = layer(g, nfeats, efeats)\n",
    "        #return nfeats.sum(1)\n",
    "        return nfeats.sum(1), e_feats.sum(1)"
   ]
  },
  {
   "cell_type": "markdown",
   "metadata": {},
   "source": [
    "## 3.3. Discriminator for Graph Representation Learning"
   ]
  },
  {
   "cell_type": "code",
   "execution_count": 9,
   "metadata": {},
   "outputs": [],
   "source": [
    "class Discriminator(nn.Module):\n",
    "    def __init__(self, n_hidden):\n",
    "        super(Discriminator, self).__init__()\n",
    "        self.weight = nn.Parameter(torch.Tensor(n_hidden, n_hidden))\n",
    "        self.reset_parameters()\n",
    "\n",
    "    def uniform(self, size, tensor):\n",
    "        bound = 1.0 / math.sqrt(size)\n",
    "        if tensor is not None:\n",
    "            tensor.data.uniform_(-bound, bound)\n",
    "\n",
    "    def reset_parameters(self):\n",
    "        size = self.weight.size(0)\n",
    "        self.uniform(size, self.weight)\n",
    "\n",
    "    def forward(self, features, summary):\n",
    "        features = torch.matmul(features, torch.matmul(self.weight, summary))\n",
    "        return features"
   ]
  },
  {
   "cell_type": "markdown",
   "metadata": {},
   "source": [
    "## 3.4. DGI Model for Unsupervised Learning on Graphs"
   ]
  },
  {
   "cell_type": "code",
   "execution_count": 10,
   "metadata": {},
   "outputs": [],
   "source": [
    "class DGI(nn.Module):\n",
    "    def __init__(self, ndim_in, ndim_out, edim, activation):\n",
    "        super(DGI, self).__init__()\n",
    "        self.encoder = SAGE(ndim_in, ndim_out, edim,  F.relu)\n",
    "        #self.discriminator = Discriminator(128)\n",
    "        self.discriminator = Discriminator(256)\n",
    "        self.loss = nn.BCEWithLogitsLoss()\n",
    "\n",
    "    def forward(self, g, n_features, e_features):\n",
    "        positive = self.encoder(g, n_features, e_features, corrupt=False)\n",
    "        negative = self.encoder(g, n_features, e_features, corrupt=True)\n",
    "        self.loss = nn.BCEWithLogitsLoss()\n",
    "\n",
    "    def forward(self, g, n_features, e_features):\n",
    "        positive = self.encoder(g, n_features, e_features, corrupt=False)\n",
    "        negative = self.encoder(g, n_features, e_features, corrupt=True)\n",
    "\n",
    "        positive = positive[1]\n",
    "        negative = negative[1]\n",
    "\n",
    "        summary = torch.sigmoid(positive.mean(dim=0))\n",
    "\n",
    "        positive = self.discriminator(positive, summary)\n",
    "        negative = self.discriminator(negative, summary)\n",
    "\n",
    "        l1 = self.loss(positive, torch.ones_like(positive))\n",
    "        l2 = self.loss(negative, torch.zeros_like(negative))\n",
    "\n",
    "        return l1 + l2"
   ]
  },
  {
   "cell_type": "markdown",
   "metadata": {},
   "source": [
    "# 4. Data Pre-Processing"
   ]
  },
  {
   "cell_type": "markdown",
   "metadata": {},
   "source": [
    "## 4.1. Data Analysis"
   ]
  },
  {
   "cell_type": "code",
   "execution_count": 11,
   "metadata": {
    "id": "SvWHb_BpKsLq"
   },
   "outputs": [],
   "source": [
    "# read the dataset from a cvs file into a Panda DataFrame\n",
    "df = pd.read_csv(FILE_NAME)"
   ]
  },
  {
   "cell_type": "code",
   "execution_count": 12,
   "metadata": {},
   "outputs": [
    {
     "data": {
      "text/html": [
       "<div>\n",
       "<style scoped>\n",
       "    .dataframe tbody tr th:only-of-type {\n",
       "        vertical-align: middle;\n",
       "    }\n",
       "\n",
       "    .dataframe tbody tr th {\n",
       "        vertical-align: top;\n",
       "    }\n",
       "\n",
       "    .dataframe thead th {\n",
       "        text-align: right;\n",
       "    }\n",
       "</style>\n",
       "<table border=\"1\" class=\"dataframe\">\n",
       "  <thead>\n",
       "    <tr style=\"text-align: right;\">\n",
       "      <th></th>\n",
       "      <th>IPV4_SRC_ADDR</th>\n",
       "      <th>L4_SRC_PORT</th>\n",
       "      <th>IPV4_DST_ADDR</th>\n",
       "      <th>L4_DST_PORT</th>\n",
       "      <th>PROTOCOL</th>\n",
       "      <th>L7_PROTO</th>\n",
       "      <th>IN_BYTES</th>\n",
       "      <th>IN_PKTS</th>\n",
       "      <th>OUT_BYTES</th>\n",
       "      <th>OUT_PKTS</th>\n",
       "      <th>...</th>\n",
       "      <th>TCP_WIN_MAX_IN</th>\n",
       "      <th>TCP_WIN_MAX_OUT</th>\n",
       "      <th>ICMP_TYPE</th>\n",
       "      <th>ICMP_IPV4_TYPE</th>\n",
       "      <th>DNS_QUERY_ID</th>\n",
       "      <th>DNS_QUERY_TYPE</th>\n",
       "      <th>DNS_TTL_ANSWER</th>\n",
       "      <th>FTP_COMMAND_RET_CODE</th>\n",
       "      <th>Label</th>\n",
       "      <th>Attack</th>\n",
       "    </tr>\n",
       "  </thead>\n",
       "  <tbody>\n",
       "    <tr>\n",
       "      <th>0</th>\n",
       "      <td>13.58.98.64</td>\n",
       "      <td>40894</td>\n",
       "      <td>172.31.69.25</td>\n",
       "      <td>22</td>\n",
       "      <td>6</td>\n",
       "      <td>92.0</td>\n",
       "      <td>3164</td>\n",
       "      <td>23</td>\n",
       "      <td>3765</td>\n",
       "      <td>21</td>\n",
       "      <td>...</td>\n",
       "      <td>26883</td>\n",
       "      <td>26847</td>\n",
       "      <td>0</td>\n",
       "      <td>0</td>\n",
       "      <td>0</td>\n",
       "      <td>0</td>\n",
       "      <td>0</td>\n",
       "      <td>0</td>\n",
       "      <td>1</td>\n",
       "      <td>SSH-Bruteforce</td>\n",
       "    </tr>\n",
       "    <tr>\n",
       "      <th>1</th>\n",
       "      <td>213.202.230.143</td>\n",
       "      <td>29622</td>\n",
       "      <td>172.31.66.103</td>\n",
       "      <td>3389</td>\n",
       "      <td>6</td>\n",
       "      <td>0.0</td>\n",
       "      <td>1919</td>\n",
       "      <td>14</td>\n",
       "      <td>2031</td>\n",
       "      <td>11</td>\n",
       "      <td>...</td>\n",
       "      <td>8192</td>\n",
       "      <td>64000</td>\n",
       "      <td>0</td>\n",
       "      <td>0</td>\n",
       "      <td>0</td>\n",
       "      <td>0</td>\n",
       "      <td>0</td>\n",
       "      <td>0</td>\n",
       "      <td>0</td>\n",
       "      <td>Benign</td>\n",
       "    </tr>\n",
       "    <tr>\n",
       "      <th>2</th>\n",
       "      <td>172.31.66.5</td>\n",
       "      <td>65456</td>\n",
       "      <td>172.31.0.2</td>\n",
       "      <td>53</td>\n",
       "      <td>17</td>\n",
       "      <td>0.0</td>\n",
       "      <td>116</td>\n",
       "      <td>2</td>\n",
       "      <td>148</td>\n",
       "      <td>2</td>\n",
       "      <td>...</td>\n",
       "      <td>0</td>\n",
       "      <td>0</td>\n",
       "      <td>0</td>\n",
       "      <td>0</td>\n",
       "      <td>2511</td>\n",
       "      <td>1</td>\n",
       "      <td>5</td>\n",
       "      <td>0</td>\n",
       "      <td>0</td>\n",
       "      <td>Benign</td>\n",
       "    </tr>\n",
       "    <tr>\n",
       "      <th>3</th>\n",
       "      <td>172.31.64.92</td>\n",
       "      <td>57918</td>\n",
       "      <td>172.31.0.2</td>\n",
       "      <td>53</td>\n",
       "      <td>17</td>\n",
       "      <td>0.0</td>\n",
       "      <td>70</td>\n",
       "      <td>1</td>\n",
       "      <td>130</td>\n",
       "      <td>1</td>\n",
       "      <td>...</td>\n",
       "      <td>0</td>\n",
       "      <td>0</td>\n",
       "      <td>0</td>\n",
       "      <td>0</td>\n",
       "      <td>3371</td>\n",
       "      <td>1</td>\n",
       "      <td>60</td>\n",
       "      <td>0</td>\n",
       "      <td>0</td>\n",
       "      <td>Benign</td>\n",
       "    </tr>\n",
       "    <tr>\n",
       "      <th>4</th>\n",
       "      <td>18.219.32.43</td>\n",
       "      <td>63269</td>\n",
       "      <td>172.31.69.25</td>\n",
       "      <td>80</td>\n",
       "      <td>6</td>\n",
       "      <td>7.0</td>\n",
       "      <td>232</td>\n",
       "      <td>5</td>\n",
       "      <td>1136</td>\n",
       "      <td>4</td>\n",
       "      <td>...</td>\n",
       "      <td>8192</td>\n",
       "      <td>26883</td>\n",
       "      <td>0</td>\n",
       "      <td>0</td>\n",
       "      <td>0</td>\n",
       "      <td>0</td>\n",
       "      <td>0</td>\n",
       "      <td>0</td>\n",
       "      <td>1</td>\n",
       "      <td>DDoS attacks-LOIC-HTTP</td>\n",
       "    </tr>\n",
       "  </tbody>\n",
       "</table>\n",
       "<p>5 rows × 45 columns</p>\n",
       "</div>"
      ],
      "text/plain": [
       "     IPV4_SRC_ADDR  L4_SRC_PORT  IPV4_DST_ADDR  L4_DST_PORT  PROTOCOL  \\\n",
       "0      13.58.98.64        40894   172.31.69.25           22         6   \n",
       "1  213.202.230.143        29622  172.31.66.103         3389         6   \n",
       "2      172.31.66.5        65456     172.31.0.2           53        17   \n",
       "3     172.31.64.92        57918     172.31.0.2           53        17   \n",
       "4     18.219.32.43        63269   172.31.69.25           80         6   \n",
       "\n",
       "   L7_PROTO  IN_BYTES  IN_PKTS  OUT_BYTES  OUT_PKTS  ...  TCP_WIN_MAX_IN  \\\n",
       "0      92.0      3164       23       3765        21  ...           26883   \n",
       "1       0.0      1919       14       2031        11  ...            8192   \n",
       "2       0.0       116        2        148         2  ...               0   \n",
       "3       0.0        70        1        130         1  ...               0   \n",
       "4       7.0       232        5       1136         4  ...            8192   \n",
       "\n",
       "   TCP_WIN_MAX_OUT  ICMP_TYPE  ICMP_IPV4_TYPE  DNS_QUERY_ID  DNS_QUERY_TYPE  \\\n",
       "0            26847          0               0             0               0   \n",
       "1            64000          0               0             0               0   \n",
       "2                0          0               0          2511               1   \n",
       "3                0          0               0          3371               1   \n",
       "4            26883          0               0             0               0   \n",
       "\n",
       "   DNS_TTL_ANSWER  FTP_COMMAND_RET_CODE  Label                  Attack  \n",
       "0               0                     0      1          SSH-Bruteforce  \n",
       "1               0                     0      0                  Benign  \n",
       "2               5                     0      0                  Benign  \n",
       "3              60                     0      0                  Benign  \n",
       "4               0                     0      1  DDoS attacks-LOIC-HTTP  \n",
       "\n",
       "[5 rows x 45 columns]"
      ]
     },
     "execution_count": 12,
     "metadata": {},
     "output_type": "execute_result"
    }
   ],
   "source": [
    "df.head()"
   ]
  },
  {
   "cell_type": "code",
   "execution_count": 13,
   "metadata": {
    "id": "3t4OREvSM33h"
   },
   "outputs": [
    {
     "data": {
      "image/png": "[encoded data removed]",
      "text/plain": [
       "<Figure size 640x480 with 1 Axes>"
      ]
     },
     "metadata": {},
     "output_type": "display_data"
    },
    {
     "name": "stdout",
     "output_type": "stream",
     "text": [
      "Label\n",
      "0    16635567\n",
      "1     2258141\n",
      "Name: count, dtype: int64\n"
     ]
    }
   ],
   "source": [
    "# count how many instances exist for each unique value in the 'label' column\n",
    "show_label_distribution(pd.DataFrame(df[\"Label\"].apply(str)), \"Label\")"
   ]
  },
  {
   "cell_type": "code",
   "execution_count": 14,
   "metadata": {},
   "outputs": [
    {
     "data": {
      "image/png": "[encoded data removed]",
      "text/plain": [
       "<Figure size 640x480 with 1 Axes>"
      ]
     },
     "metadata": {},
     "output_type": "display_data"
    },
    {
     "name": "stdout",
     "output_type": "stream",
     "text": [
      "Attack\n",
      "Benign                      16635567\n",
      "DDOS attack-HOIC             1080858\n",
      "DoS attacks-Hulk              432648\n",
      "DDoS attacks-LOIC-HTTP        307300\n",
      "Bot                           143097\n",
      "Infilteration                 116361\n",
      "SSH-Bruteforce                 94979\n",
      "DoS attacks-GoldenEye          27723\n",
      "FTP-BruteForce                 25933\n",
      "DoS attacks-SlowHTTPTest       14116\n",
      "DoS attacks-Slowloris           9512\n",
      "Brute Force -Web                2143\n",
      "DDOS attack-LOIC-UDP            2112\n",
      "Brute Force -XSS                 927\n",
      "SQL Injection                    432\n",
      "Name: count, dtype: int64\n"
     ]
    }
   ],
   "source": [
    "show_label_distribution(df, \"Attack\")"
   ]
  },
  {
   "cell_type": "markdown",
   "metadata": {},
   "source": [
    "## 4.2. Stratified Sampling by Attack Type"
   ]
  },
  {
   "cell_type": "code",
   "execution_count": 15,
   "metadata": {
    "id": "AlPa58fVN7gB"
   },
   "outputs": [],
   "source": [
    "# uniform random data downsampling\n",
    "# groupby and sample operations reduce the dataset by taking a 10% sample from each group defined by unique values in 'Attack' columns\n",
    "# random_state is set to ensure reproducibility; it's a seed value for the random number generator used by sample()\n",
    "df_reduced = df.groupby(by='Attack').sample(frac=POURCENTAGE_DATASET_REMAINING, random_state=SEED)"
   ]
  },
  {
   "cell_type": "code",
   "execution_count": 16,
   "metadata": {},
   "outputs": [
    {
     "data": {
      "image/png": "[encoded data removed]",
      "text/plain": [
       "<Figure size 640x480 with 1 Axes>"
      ]
     },
     "metadata": {},
     "output_type": "display_data"
    },
    {
     "name": "stdout",
     "output_type": "stream",
     "text": [
      "Attack\n",
      "Benign                      166356\n",
      "DDOS attack-HOIC             10809\n",
      "DoS attacks-Hulk              4326\n",
      "DDoS attacks-LOIC-HTTP        3073\n",
      "Bot                           1431\n",
      "Infilteration                 1164\n",
      "SSH-Bruteforce                 950\n",
      "DoS attacks-GoldenEye          277\n",
      "FTP-BruteForce                 259\n",
      "DoS attacks-SlowHTTPTest       141\n",
      "DoS attacks-Slowloris           95\n",
      "Brute Force -Web                21\n",
      "DDOS attack-LOIC-UDP            21\n",
      "Brute Force -XSS                 9\n",
      "SQL Injection                    4\n",
      "Name: count, dtype: int64\n"
     ]
    }
   ],
   "source": [
    "show_label_distribution(df_reduced, \"Attack\")"
   ]
  },
  {
   "cell_type": "markdown",
   "metadata": {},
   "source": [
    "## 4.3. Rename, Delete and Convert Columns"
   ]
  },
  {
   "cell_type": "code",
   "execution_count": 17,
   "metadata": {},
   "outputs": [],
   "source": [
    "# remove leading and trailind spaces from column names\n",
    "df_reduced.rename(columns=lambda x: x.strip(), inplace=True)\n",
    "\n",
    "# remove the columns L4_SRC_PORT and L4_DST_PORT from the DataFrame. \n",
    "df_reduced.drop(columns=[\"L4_SRC_PORT\", \"L4_DST_PORT\"], inplace=True)\n",
    "\n",
    "# convert columns to string format\n",
    "df_reduced['IPV4_SRC_ADDR'] = df_reduced[\"IPV4_SRC_ADDR\"].apply(str)\n",
    "df_reduced['IPV4_DST_ADDR'] = df_reduced[\"IPV4_DST_ADDR\"].apply(str)\n",
    "\n"
   ]
  },
  {
   "cell_type": "code",
   "execution_count": 18,
   "metadata": {},
   "outputs": [
    {
     "name": "stderr",
     "output_type": "stream",
     "text": [
      "c:\\Users\\helen\\Documents\\Concordia University\\INSE 6180\\project\\conda_anomal_e_venv\\Lib\\site-packages\\pandas\\core\\nanops.py:1016: RuntimeWarning: overflow encountered in square\n",
      "  sqr = _ensure_numeric((avg - values) ** 2)\n"
     ]
    },
    {
     "data": {
      "text/html": [
       "<div>\n",
       "<style scoped>\n",
       "    .dataframe tbody tr th:only-of-type {\n",
       "        vertical-align: middle;\n",
       "    }\n",
       "\n",
       "    .dataframe tbody tr th {\n",
       "        vertical-align: top;\n",
       "    }\n",
       "\n",
       "    .dataframe thead th {\n",
       "        text-align: right;\n",
       "    }\n",
       "</style>\n",
       "<table border=\"1\" class=\"dataframe\">\n",
       "  <thead>\n",
       "    <tr style=\"text-align: right;\">\n",
       "      <th></th>\n",
       "      <th>PROTOCOL</th>\n",
       "      <th>L7_PROTO</th>\n",
       "      <th>IN_BYTES</th>\n",
       "      <th>IN_PKTS</th>\n",
       "      <th>OUT_BYTES</th>\n",
       "      <th>OUT_PKTS</th>\n",
       "      <th>TCP_FLAGS</th>\n",
       "      <th>CLIENT_TCP_FLAGS</th>\n",
       "      <th>SERVER_TCP_FLAGS</th>\n",
       "      <th>FLOW_DURATION_MILLISECONDS</th>\n",
       "      <th>...</th>\n",
       "      <th>NUM_PKTS_1024_TO_1514_BYTES</th>\n",
       "      <th>TCP_WIN_MAX_IN</th>\n",
       "      <th>TCP_WIN_MAX_OUT</th>\n",
       "      <th>ICMP_TYPE</th>\n",
       "      <th>ICMP_IPV4_TYPE</th>\n",
       "      <th>DNS_QUERY_ID</th>\n",
       "      <th>DNS_QUERY_TYPE</th>\n",
       "      <th>DNS_TTL_ANSWER</th>\n",
       "      <th>FTP_COMMAND_RET_CODE</th>\n",
       "      <th>Label</th>\n",
       "    </tr>\n",
       "  </thead>\n",
       "  <tbody>\n",
       "    <tr>\n",
       "      <th>count</th>\n",
       "      <td>188936.000000</td>\n",
       "      <td>188936.000000</td>\n",
       "      <td>1.889360e+05</td>\n",
       "      <td>188936.000000</td>\n",
       "      <td>1.889360e+05</td>\n",
       "      <td>188936.000000</td>\n",
       "      <td>188936.000000</td>\n",
       "      <td>188936.000000</td>\n",
       "      <td>188936.000000</td>\n",
       "      <td>1.889360e+05</td>\n",
       "      <td>...</td>\n",
       "      <td>188936.000000</td>\n",
       "      <td>188936.000000</td>\n",
       "      <td>188936.000000</td>\n",
       "      <td>188936.000000</td>\n",
       "      <td>188936.000000</td>\n",
       "      <td>188936.000000</td>\n",
       "      <td>188936.000000</td>\n",
       "      <td>188936.000000</td>\n",
       "      <td>188936.0</td>\n",
       "      <td>188936.000000</td>\n",
       "    </tr>\n",
       "    <tr>\n",
       "      <th>mean</th>\n",
       "      <td>10.567573</td>\n",
       "      <td>12.458346</td>\n",
       "      <td>1.757979e+03</td>\n",
       "      <td>22.850653</td>\n",
       "      <td>8.790628e+03</td>\n",
       "      <td>10.860318</td>\n",
       "      <td>76.198861</td>\n",
       "      <td>75.491764</td>\n",
       "      <td>21.271976</td>\n",
       "      <td>5.743776e+05</td>\n",
       "      <td>...</td>\n",
       "      <td>5.338713</td>\n",
       "      <td>11481.456742</td>\n",
       "      <td>20866.108238</td>\n",
       "      <td>3222.631351</td>\n",
       "      <td>12.588400</td>\n",
       "      <td>13362.767085</td>\n",
       "      <td>3.941287</td>\n",
       "      <td>19.242865</td>\n",
       "      <td>0.0</td>\n",
       "      <td>0.119511</td>\n",
       "    </tr>\n",
       "    <tr>\n",
       "      <th>std</th>\n",
       "      <td>5.434893</td>\n",
       "      <td>28.752835</td>\n",
       "      <td>6.439726e+04</td>\n",
       "      <td>1075.185261</td>\n",
       "      <td>5.822220e+05</td>\n",
       "      <td>388.387299</td>\n",
       "      <td>99.079586</td>\n",
       "      <td>98.843107</td>\n",
       "      <td>29.069705</td>\n",
       "      <td>1.461825e+06</td>\n",
       "      <td>...</td>\n",
       "      <td>384.752339</td>\n",
       "      <td>19082.255765</td>\n",
       "      <td>24995.168361</td>\n",
       "      <td>12020.114372</td>\n",
       "      <td>46.953572</td>\n",
       "      <td>20107.399069</td>\n",
       "      <td>15.624698</td>\n",
       "      <td>26.381560</td>\n",
       "      <td>0.0</td>\n",
       "      <td>0.324390</td>\n",
       "    </tr>\n",
       "    <tr>\n",
       "      <th>min</th>\n",
       "      <td>1.000000</td>\n",
       "      <td>0.000000</td>\n",
       "      <td>2.800000e+01</td>\n",
       "      <td>1.000000</td>\n",
       "      <td>0.000000e+00</td>\n",
       "      <td>0.000000</td>\n",
       "      <td>0.000000</td>\n",
       "      <td>0.000000</td>\n",
       "      <td>0.000000</td>\n",
       "      <td>0.000000e+00</td>\n",
       "      <td>...</td>\n",
       "      <td>0.000000</td>\n",
       "      <td>0.000000</td>\n",
       "      <td>0.000000</td>\n",
       "      <td>0.000000</td>\n",
       "      <td>0.000000</td>\n",
       "      <td>0.000000</td>\n",
       "      <td>0.000000</td>\n",
       "      <td>0.000000</td>\n",
       "      <td>0.0</td>\n",
       "      <td>0.000000</td>\n",
       "    </tr>\n",
       "    <tr>\n",
       "      <th>25%</th>\n",
       "      <td>6.000000</td>\n",
       "      <td>0.000000</td>\n",
       "      <td>6.800000e+01</td>\n",
       "      <td>1.000000</td>\n",
       "      <td>1.160000e+02</td>\n",
       "      <td>1.000000</td>\n",
       "      <td>0.000000</td>\n",
       "      <td>0.000000</td>\n",
       "      <td>0.000000</td>\n",
       "      <td>0.000000e+00</td>\n",
       "      <td>...</td>\n",
       "      <td>0.000000</td>\n",
       "      <td>0.000000</td>\n",
       "      <td>0.000000</td>\n",
       "      <td>0.000000</td>\n",
       "      <td>0.000000</td>\n",
       "      <td>0.000000</td>\n",
       "      <td>0.000000</td>\n",
       "      <td>0.000000</td>\n",
       "      <td>0.0</td>\n",
       "      <td>0.000000</td>\n",
       "    </tr>\n",
       "    <tr>\n",
       "      <th>50%</th>\n",
       "      <td>6.000000</td>\n",
       "      <td>0.000000</td>\n",
       "      <td>1.720000e+02</td>\n",
       "      <td>3.000000</td>\n",
       "      <td>3.180000e+02</td>\n",
       "      <td>3.000000</td>\n",
       "      <td>26.000000</td>\n",
       "      <td>26.000000</td>\n",
       "      <td>22.000000</td>\n",
       "      <td>0.000000e+00</td>\n",
       "      <td>...</td>\n",
       "      <td>0.000000</td>\n",
       "      <td>8192.000000</td>\n",
       "      <td>8192.000000</td>\n",
       "      <td>0.000000</td>\n",
       "      <td>0.000000</td>\n",
       "      <td>0.000000</td>\n",
       "      <td>0.000000</td>\n",
       "      <td>0.000000</td>\n",
       "      <td>0.0</td>\n",
       "      <td>0.000000</td>\n",
       "    </tr>\n",
       "    <tr>\n",
       "      <th>75%</th>\n",
       "      <td>17.000000</td>\n",
       "      <td>7.000000</td>\n",
       "      <td>1.460000e+03</td>\n",
       "      <td>9.000000</td>\n",
       "      <td>1.873000e+03</td>\n",
       "      <td>7.000000</td>\n",
       "      <td>219.000000</td>\n",
       "      <td>219.000000</td>\n",
       "      <td>27.000000</td>\n",
       "      <td>0.000000e+00</td>\n",
       "      <td>...</td>\n",
       "      <td>1.000000</td>\n",
       "      <td>8192.000000</td>\n",
       "      <td>29200.000000</td>\n",
       "      <td>0.000000</td>\n",
       "      <td>0.000000</td>\n",
       "      <td>25225.000000</td>\n",
       "      <td>1.000000</td>\n",
       "      <td>60.000000</td>\n",
       "      <td>0.0</td>\n",
       "      <td>0.000000</td>\n",
       "    </tr>\n",
       "    <tr>\n",
       "      <th>max</th>\n",
       "      <td>58.000000</td>\n",
       "      <td>248.000000</td>\n",
       "      <td>7.095720e+06</td>\n",
       "      <td>118262.000000</td>\n",
       "      <td>1.021771e+08</td>\n",
       "      <td>68626.000000</td>\n",
       "      <td>223.000000</td>\n",
       "      <td>223.000000</td>\n",
       "      <td>223.000000</td>\n",
       "      <td>4.294967e+06</td>\n",
       "      <td>...</td>\n",
       "      <td>67935.000000</td>\n",
       "      <td>65535.000000</td>\n",
       "      <td>65535.000000</td>\n",
       "      <td>65280.000000</td>\n",
       "      <td>255.000000</td>\n",
       "      <td>65532.000000</td>\n",
       "      <td>255.000000</td>\n",
       "      <td>60.000000</td>\n",
       "      <td>0.0</td>\n",
       "      <td>1.000000</td>\n",
       "    </tr>\n",
       "  </tbody>\n",
       "</table>\n",
       "<p>8 rows × 40 columns</p>\n",
       "</div>"
      ],
      "text/plain": [
       "            PROTOCOL       L7_PROTO      IN_BYTES        IN_PKTS  \\\n",
       "count  188936.000000  188936.000000  1.889360e+05  188936.000000   \n",
       "mean       10.567573      12.458346  1.757979e+03      22.850653   \n",
       "std         5.434893      28.752835  6.439726e+04    1075.185261   \n",
       "min         1.000000       0.000000  2.800000e+01       1.000000   \n",
       "25%         6.000000       0.000000  6.800000e+01       1.000000   \n",
       "50%         6.000000       0.000000  1.720000e+02       3.000000   \n",
       "75%        17.000000       7.000000  1.460000e+03       9.000000   \n",
       "max        58.000000     248.000000  7.095720e+06  118262.000000   \n",
       "\n",
       "          OUT_BYTES       OUT_PKTS      TCP_FLAGS  CLIENT_TCP_FLAGS  \\\n",
       "count  1.889360e+05  188936.000000  188936.000000     188936.000000   \n",
       "mean   8.790628e+03      10.860318      76.198861         75.491764   \n",
       "std    5.822220e+05     388.387299      99.079586         98.843107   \n",
       "min    0.000000e+00       0.000000       0.000000          0.000000   \n",
       "25%    1.160000e+02       1.000000       0.000000          0.000000   \n",
       "50%    3.180000e+02       3.000000      26.000000         26.000000   \n",
       "75%    1.873000e+03       7.000000     219.000000        219.000000   \n",
       "max    1.021771e+08   68626.000000     223.000000        223.000000   \n",
       "\n",
       "       SERVER_TCP_FLAGS  FLOW_DURATION_MILLISECONDS  ...  \\\n",
       "count     188936.000000                1.889360e+05  ...   \n",
       "mean          21.271976                5.743776e+05  ...   \n",
       "std           29.069705                1.461825e+06  ...   \n",
       "min            0.000000                0.000000e+00  ...   \n",
       "25%            0.000000                0.000000e+00  ...   \n",
       "50%           22.000000                0.000000e+00  ...   \n",
       "75%           27.000000                0.000000e+00  ...   \n",
       "max          223.000000                4.294967e+06  ...   \n",
       "\n",
       "       NUM_PKTS_1024_TO_1514_BYTES  TCP_WIN_MAX_IN  TCP_WIN_MAX_OUT  \\\n",
       "count                188936.000000   188936.000000    188936.000000   \n",
       "mean                      5.338713    11481.456742     20866.108238   \n",
       "std                     384.752339    19082.255765     24995.168361   \n",
       "min                       0.000000        0.000000         0.000000   \n",
       "25%                       0.000000        0.000000         0.000000   \n",
       "50%                       0.000000     8192.000000      8192.000000   \n",
       "75%                       1.000000     8192.000000     29200.000000   \n",
       "max                   67935.000000    65535.000000     65535.000000   \n",
       "\n",
       "           ICMP_TYPE  ICMP_IPV4_TYPE   DNS_QUERY_ID  DNS_QUERY_TYPE  \\\n",
       "count  188936.000000   188936.000000  188936.000000   188936.000000   \n",
       "mean     3222.631351       12.588400   13362.767085        3.941287   \n",
       "std     12020.114372       46.953572   20107.399069       15.624698   \n",
       "min         0.000000        0.000000       0.000000        0.000000   \n",
       "25%         0.000000        0.000000       0.000000        0.000000   \n",
       "50%         0.000000        0.000000       0.000000        0.000000   \n",
       "75%         0.000000        0.000000   25225.000000        1.000000   \n",
       "max     65280.000000      255.000000   65532.000000      255.000000   \n",
       "\n",
       "       DNS_TTL_ANSWER  FTP_COMMAND_RET_CODE          Label  \n",
       "count   188936.000000              188936.0  188936.000000  \n",
       "mean        19.242865                   0.0       0.119511  \n",
       "std         26.381560                   0.0       0.324390  \n",
       "min          0.000000                   0.0       0.000000  \n",
       "25%          0.000000                   0.0       0.000000  \n",
       "50%          0.000000                   0.0       0.000000  \n",
       "75%         60.000000                   0.0       0.000000  \n",
       "max         60.000000                   0.0       1.000000  \n",
       "\n",
       "[8 rows x 40 columns]"
      ]
     },
     "execution_count": 18,
     "metadata": {},
     "output_type": "execute_result"
    }
   ],
   "source": [
    "# print(df_reduced.info())\n",
    "df_reduced.describe()"
   ]
  },
  {
   "cell_type": "markdown",
   "metadata": {},
   "source": [
    "## 4.4. Feature and Target Matrices Generation"
   ]
  },
  {
   "cell_type": "code",
   "execution_count": 19,
   "metadata": {},
   "outputs": [],
   "source": [
    "# create a new DataFrame X by removing the columns 'Attack' and 'Label' from the original df DataFrame\n",
    "# X will serve as the feature matrix, which contains the df that the machine learning model will use to learn patterns\n",
    "X = df_reduced.drop(columns=[\"Attack\", \"Label\"])\n",
    "\n",
    "# y is created as a new DataFrame containing only the Attack and Label columns from the original df DataFrame\n",
    "# y will serve as the target or labels that the model will try to predict\n",
    "y = df_reduced[[\"Attack\", \"Label\"]]\n"
   ]
  },
  {
   "cell_type": "markdown",
   "metadata": {},
   "source": [
    "## 4.5. Data Spliting into Training and Testing Sets"
   ]
  },
  {
   "cell_type": "code",
   "execution_count": 20,
   "metadata": {
    "id": "FqRx5xCPOuv8"
   },
   "outputs": [],
   "source": [
    "\n",
    "# splits df into training and testing sets\n",
    "# X_train and y_train are the features and labels used for training the model\n",
    "# X_test and y_test are for evaluating the model's performance\n",
    "# test_size=0.3 parameter indicates that 30% of the df is reserved for testing\n",
    "# stratify=y ensures that the distribution of labels in both training and testing sets is similar to the original dataset\n",
    "X_train, X_test, y_train, y_test = train_test_split(\n",
    "                                                X, \n",
    "                                                y, \n",
    "                                                test_size=TEST_SET_SIZE, \n",
    "                                                random_state=SEED, \n",
    "                                                stratify=y)"
   ]
  },
  {
   "cell_type": "code",
   "execution_count": 21,
   "metadata": {},
   "outputs": [
    {
     "name": "stdout",
     "output_type": "stream",
     "text": [
      "(132255, 41)\n",
      "                    Attack  Label\n",
      "3652644             Benign      0\n",
      "4233542             Benign      0\n",
      "13462639            Benign      0\n",
      "4080446             Benign      0\n",
      "15857605            Benign      0\n",
      "...                    ...    ...\n",
      "1943347             Benign      0\n",
      "17393895            Benign      0\n",
      "17928622  DDOS attack-HOIC      1\n",
      "5652075             Benign      0\n",
      "5870306             Benign      0\n",
      "\n",
      "[132255 rows x 2 columns]\n"
     ]
    }
   ],
   "source": [
    "print(X_train.shape)\n",
    "print(y_train)"
   ]
  },
  {
   "cell_type": "code",
   "execution_count": null,
   "metadata": {},
   "outputs": [],
   "source": []
  },
  {
   "cell_type": "markdown",
   "metadata": {},
   "source": [
    "## 4.6. Data Balancing (IMPROVEMENT 1)"
   ]
  },
  {
   "cell_type": "markdown",
   "metadata": {},
   "source": [
    "### 4.6.1. Random Over Sampling"
   ]
  },
  {
   "cell_type": "code",
   "execution_count": 22,
   "metadata": {},
   "outputs": [],
   "source": [
    "def balance_data_with_ros(X_train, y_train):\n",
    "    \"\"\"\n",
    "    Balances the training data by oversampling attack samples in such a way that the total number of\n",
    "    attack samples matches the number of benign samples, while maintaining the proportional distribution\n",
    "    of each specific type of attack.\n",
    "\n",
    "    Inputs:\n",
    "    - X_train: DataFrame containing the features for training.\n",
    "    - y_train: DataFrame containing the 'Attack' and 'Label' columns.\n",
    "    \n",
    "    Outputs:\n",
    "    - X_train_balanced: DataFrame of features after balancing the data.\n",
    "    - y_train_balanced: DataFrame of labels after balancing the data, includes both 'Attack' and 'Label' columns.\n",
    "    \"\"\"\n",
    "\n",
    "    # combine X_train and y_train for ease of operation\n",
    "    df_train = pd.concat([X_train, y_train], axis=1)\n",
    "\n",
    "    # separate the data into benign and attack samples\n",
    "    benign_samples = df_train[df_train['Label'] == 0]\n",
    "    attack_samples = df_train[df_train['Label'] == 1]\n",
    "\n",
    "    # determine the number of benign samples\n",
    "    total_benign = benign_samples.shape[0]\n",
    "\n",
    "    # calculate the proportional distribution of each attack type\n",
    "    proportions = attack_samples['Attack'].value_counts(normalize=True)\n",
    "    attack_targets = {attack: int(proportion * total_benign) for attack, proportion in proportions.items()}\n",
    "\n",
    "    # configure RandomOverSampler to oversample attack types according to calculated targets\n",
    "    ros = RandomOverSampler(sampling_strategy=attack_targets, random_state=42)\n",
    "    \n",
    "    # apply oversampling\n",
    "    X_resampled, y_resampled = ros.fit_resample(df_train.drop(columns=['Attack', 'Label']), df_train['Attack'])\n",
    "    \n",
    "    # reconstruct the DataFrame after resampling\n",
    "    df_resampled = pd.DataFrame(X_resampled, columns=df_train.drop(columns=['Attack', 'Label']).columns)\n",
    "    df_resampled['Attack'] = y_resampled\n",
    "    df_resampled['Label'] = df_resampled['Attack'].apply(lambda x: 0 if x == 'Benign' else 1)\n",
    "\n",
    "    # shuffle the dataset\n",
    "    df_resampled = shuffle(df_resampled, random_state=42)\n",
    "\n",
    "    # print the new distribution of attacks\n",
    "    show_label_distribution(df_resampled, \"Attack\")\n",
    "    show_label_distribution(pd.DataFrame(df_resampled[\"Label\"].apply(str)), \"Label\")\n",
    "\n",
    "    # return the balanced dataset split into features and labels\n",
    "    return df_resampled.drop(columns=['Attack', 'Label']), df_resampled[['Attack', 'Label']]\n"
   ]
  },
  {
   "cell_type": "code",
   "execution_count": 23,
   "metadata": {},
   "outputs": [
    {
     "data": {
      "image/png": "[encoded data removed]",
      "text/plain": [
       "<Figure size 640x480 with 1 Axes>"
      ]
     },
     "metadata": {},
     "output_type": "display_data"
    },
    {
     "name": "stdout",
     "output_type": "stream",
     "text": [
      "Attack\n",
      "Benign                      116449\n",
      "DDOS attack-HOIC             55741\n",
      "DoS attacks-Hulk             22308\n",
      "DDoS attacks-LOIC-HTTP       15847\n",
      "Bot                           7382\n",
      "Infilteration                 6004\n",
      "SSH-Bruteforce                4899\n",
      "DoS attacks-GoldenEye         1429\n",
      "FTP-BruteForce                1333\n",
      "DoS attacks-SlowHTTPTest       729\n",
      "DoS attacks-Slowloris          486\n",
      "DDOS attack-LOIC-UDP           110\n",
      "Brute Force -Web               110\n",
      "Brute Force -XSS                44\n",
      "SQL Injection                   22\n",
      "Name: count, dtype: int64\n"
     ]
    },
    {
     "data": {
      "image/png": "[encoded data removed]",
      "text/plain": [
       "<Figure size 640x480 with 1 Axes>"
      ]
     },
     "metadata": {},
     "output_type": "display_data"
    },
    {
     "name": "stdout",
     "output_type": "stream",
     "text": [
      "Label\n",
      "0    116449\n",
      "1    116444\n",
      "Name: count, dtype: int64\n"
     ]
    }
   ],
   "source": [
    "# balance the dataset using the over sampling method\n",
    "X_train, y_train = balance_data_with_ros(X_train, y_train)"
   ]
  },
  {
   "cell_type": "code",
   "execution_count": 24,
   "metadata": {},
   "outputs": [
    {
     "name": "stdout",
     "output_type": "stream",
     "text": [
      "(232893, 41)\n",
      "                Attack  Label\n",
      "0               Benign      0\n",
      "1               Benign      0\n",
      "2               Benign      0\n",
      "3               Benign      0\n",
      "4               Benign      0\n",
      "...                ...    ...\n",
      "232888  SSH-Bruteforce      1\n",
      "232889  SSH-Bruteforce      1\n",
      "232890  SSH-Bruteforce      1\n",
      "232891  SSH-Bruteforce      1\n",
      "232892  SSH-Bruteforce      1\n",
      "\n",
      "[232893 rows x 2 columns]\n"
     ]
    }
   ],
   "source": [
    "print(X_train.shape)\n",
    "print(y_train)"
   ]
  },
  {
   "cell_type": "code",
   "execution_count": 25,
   "metadata": {},
   "outputs": [
    {
     "name": "stdout",
     "output_type": "stream",
     "text": [
      "(232893, 41)\n",
      "                Attack  Label\n",
      "0               Benign      0\n",
      "1               Benign      0\n",
      "2               Benign      0\n",
      "3               Benign      0\n",
      "4               Benign      0\n",
      "...                ...    ...\n",
      "232888  SSH-Bruteforce      1\n",
      "232889  SSH-Bruteforce      1\n",
      "232890  SSH-Bruteforce      1\n",
      "232891  SSH-Bruteforce      1\n",
      "232892  SSH-Bruteforce      1\n",
      "\n",
      "[232893 rows x 2 columns]\n"
     ]
    }
   ],
   "source": [
    "print(X_train.shape)\n",
    "print(y_train)"
   ]
  },
  {
   "cell_type": "markdown",
   "metadata": {},
   "source": [
    "### 4.6.2. Synthetic Minority Over-sampling Technique (SMOTE) "
   ]
  },
  {
   "cell_type": "code",
   "execution_count": 81,
   "metadata": {},
   "outputs": [],
   "source": [
    "def balance_data_with_smote(X_train, y_train):\n",
    "    \"\"\"\n",
    "    Balances the training data using SMOTE to create synthetic samples for attack classes,\n",
    "    ensuring the total number of attack samples matches the number of benign samples,\n",
    "    while maintaining the proportional distribution of each specific type of attack.\n",
    "\n",
    "    Inputs:\n",
    "    - X_train: DataFrame containing the features for training.\n",
    "    - y_train: DataFrame containing the 'Attack' and 'Label' columns.\n",
    "    \n",
    "    Outputs:\n",
    "    - X_train_balanced: DataFrame of features after balancing the data using SMOTE.\n",
    "    - y_train_balanced: DataFrame of labels after balancing the data, includes both 'Attack' and 'Label' columns.\n",
    "    \"\"\"\n",
    "    \n",
    "    # combine X_train and y_train for ease of operation\n",
    "    df_train = pd.concat([X_train, y_train], axis=1)\n",
    "\n",
    "    # separate the data into benign and attack samples\n",
    "    benign_samples = df_train[df_train['Label'] == 0]\n",
    "    attack_samples = df_train[df_train['Label'] == 1]\n",
    "\n",
    "    # determine the number of benign samples\n",
    "    total_benign = benign_samples.shape[0]\n",
    "\n",
    "    # calculate the proportional distribution of each attack type\n",
    "    proportions = attack_samples['Attack'].value_counts(normalize=True)\n",
    "    attack_targets = {attack: int(proportion * total_benign) for attack, proportion in proportions.items()}\n",
    "\n",
    "    # configure SMOTE to generate synthetic samples for attack types according to calculated targets\n",
    "    smote = SMOTE(sampling_strategy=attack_targets, random_state=42)\n",
    "    \n",
    "    # apply SMOTE\n",
    "    X_resampled, y_resampled = smote.fit_resample(df_train.drop(columns=['Attack', 'Label']), df_train['Attack'])\n",
    "    \n",
    "    # reconstruct the DataFrame after resampling\n",
    "    df_resampled = pd.DataFrame(X_resampled, columns=df_train.drop(columns=['Attack', 'Label']).columns)\n",
    "    df_resampled['Attack'] = y_resampled\n",
    "    df_resampled['Label'] = df_resampled['Attack'].apply(lambda x: 0 if x == 'Benign' else 1)\n",
    "\n",
    "    # shuffle the dataset\n",
    "    df_resampled = shuffle(df_resampled, random_state=42)\n",
    "\n",
    "    # print the new distribution of attacks\n",
    "    show_label_distribution(df_resampled, \"Attack\")\n",
    "    show_label_distribution(pd.DataFrame(df_resampled[\"Label\"].apply(str)), \"Label\")\n",
    "\n",
    "    # return the balanced dataset split into features and labels\n",
    "    return df_resampled.drop(columns=['Attack', 'Label']), df_resampled[['Attack', 'Label']]\n"
   ]
  },
  {
   "cell_type": "code",
   "execution_count": null,
   "metadata": {},
   "outputs": [],
   "source": [
    "\"\"\" \n",
    "# data balancing with smote\n",
    "X_train_balanced, y_train_balanced = balance_data_with_smote(X_train, y_train)\n",
    "\"\"\""
   ]
  },
  {
   "cell_type": "code",
   "execution_count": null,
   "metadata": {},
   "outputs": [],
   "source": [
    "\"\"\" \n",
    "print(X_train.shape)\n",
    "print(y_train)\n",
    "\"\"\""
   ]
  },
  {
   "cell_type": "markdown",
   "metadata": {},
   "source": [
    "## 4.7. Categorical Feature Encoding"
   ]
  },
  {
   "cell_type": "code",
   "execution_count": 29,
   "metadata": {
    "id": "bPfakXplPGGx"
   },
   "outputs": [],
   "source": [
    "# initializes a target encoder object that will convert categorical features into numeric values \n",
    "#   based on the mean target value (from y_train.Label) for each category\n",
    "encoder = ce.TargetEncoder(cols=['TCP_FLAGS','L7_PROTO','PROTOCOL',\n",
    "                                  'CLIENT_TCP_FLAGS','SERVER_TCP_FLAGS','ICMP_TYPE',\n",
    "                                  'ICMP_IPV4_TYPE','DNS_QUERY_ID','DNS_QUERY_TYPE',\n",
    "                                  'FTP_COMMAND_RET_CODE'])\n",
    "\n",
    "# fit the encoder to the training df, \n",
    "#   learning the mappings from categories to numeric values based on the target (y_train.Label)\n",
    "encoder.fit(X_train, y_train.Label)\n",
    "\n",
    "# apply the learned encoding to the training df, \n",
    "#   converting categorical columns to their numeric representations\n",
    "X_train = encoder.transform(X_train)\n",
    "\n",
    "# apply the learned encoding to the testing df\n",
    "X_test = encoder.transform(X_test)"
   ]
  },
  {
   "cell_type": "markdown",
   "metadata": {},
   "source": [
    "## 4.8. Data Cleaning: Handling of Infinite and Empty Values"
   ]
  },
  {
   "cell_type": "code",
   "execution_count": 30,
   "metadata": {
    "id": "ibyOfV-8PouK"
   },
   "outputs": [],
   "source": [
    "# replace infinite values in the training df with NaN (Not a Number) -> to handle mathematical anomalies in the dataset \n",
    "X_train.replace([np.inf, -np.inf], np.nan, inplace=True)\n",
    "X_test.replace([np.inf, -np.inf], np.nan, inplace=True)\n",
    "\n",
    "# replace all NaN values in the training df with 0, which is a method of handling missing values\n",
    "X_train.fillna(0, inplace=True)\n",
    "X_test.fillna(0, inplace=True)"
   ]
  },
  {
   "cell_type": "markdown",
   "metadata": {},
   "source": [
    "## 4.9. Feature Normalization and Vectorization"
   ]
  },
  {
   "cell_type": "code",
   "execution_count": 31,
   "metadata": {
    "id": "asDnsSIWPee0"
   },
   "outputs": [
    {
     "data": {
      "text/html": [
       "<style>#sk-container-id-1 {\n",
       "  /* Definition of color scheme common for light and dark mode */\n",
       "  --sklearn-color-text: black;\n",
       "  --sklearn-color-line: gray;\n",
       "  /* Definition of color scheme for unfitted estimators */\n",
       "  --sklearn-color-unfitted-level-0: #fff5e6;\n",
       "  --sklearn-color-unfitted-level-1: #f6e4d2;\n",
       "  --sklearn-color-unfitted-level-2: #ffe0b3;\n",
       "  --sklearn-color-unfitted-level-3: chocolate;\n",
       "  /* Definition of color scheme for fitted estimators */\n",
       "  --sklearn-color-fitted-level-0: #f0f8ff;\n",
       "  --sklearn-color-fitted-level-1: #d4ebff;\n",
       "  --sklearn-color-fitted-level-2: #b3dbfd;\n",
       "  --sklearn-color-fitted-level-3: cornflowerblue;\n",
       "\n",
       "  /* Specific color for light theme */\n",
       "  --sklearn-color-text-on-default-background: var(--sg-text-color, var(--theme-code-foreground, var(--jp-content-font-color1, black)));\n",
       "  --sklearn-color-background: var(--sg-background-color, var(--theme-background, var(--jp-layout-color0, white)));\n",
       "  --sklearn-color-border-box: var(--sg-text-color, var(--theme-code-foreground, var(--jp-content-font-color1, black)));\n",
       "  --sklearn-color-icon: #696969;\n",
       "\n",
       "  @media (prefers-color-scheme: dark) {\n",
       "    /* Redefinition of color scheme for dark theme */\n",
       "    --sklearn-color-text-on-default-background: var(--sg-text-color, var(--theme-code-foreground, var(--jp-content-font-color1, white)));\n",
       "    --sklearn-color-background: var(--sg-background-color, var(--theme-background, var(--jp-layout-color0, #111)));\n",
       "    --sklearn-color-border-box: var(--sg-text-color, var(--theme-code-foreground, var(--jp-content-font-color1, white)));\n",
       "    --sklearn-color-icon: #878787;\n",
       "  }\n",
       "}\n",
       "\n",
       "#sk-container-id-1 {\n",
       "  color: var(--sklearn-color-text);\n",
       "}\n",
       "\n",
       "#sk-container-id-1 pre {\n",
       "  padding: 0;\n",
       "}\n",
       "\n",
       "#sk-container-id-1 input.sk-hidden--visually {\n",
       "  border: 0;\n",
       "  clip: rect(1px 1px 1px 1px);\n",
       "  clip: rect(1px, 1px, 1px, 1px);\n",
       "  height: 1px;\n",
       "  margin: -1px;\n",
       "  overflow: hidden;\n",
       "  padding: 0;\n",
       "  position: absolute;\n",
       "  width: 1px;\n",
       "}\n",
       "\n",
       "#sk-container-id-1 div.sk-dashed-wrapped {\n",
       "  border: 1px dashed var(--sklearn-color-line);\n",
       "  margin: 0 0.4em 0.5em 0.4em;\n",
       "  box-sizing: border-box;\n",
       "  padding-bottom: 0.4em;\n",
       "  background-color: var(--sklearn-color-background);\n",
       "}\n",
       "\n",
       "#sk-container-id-1 div.sk-container {\n",
       "  /* jupyter's `normalize.less` sets `[hidden] { display: none; }`\n",
       "     but bootstrap.min.css set `[hidden] { display: none !important; }`\n",
       "     so we also need the `!important` here to be able to override the\n",
       "     default hidden behavior on the sphinx rendered scikit-learn.org.\n",
       "     See: https://github.com/scikit-learn/scikit-learn/issues/21755 */\n",
       "  display: inline-block !important;\n",
       "  position: relative;\n",
       "}\n",
       "\n",
       "#sk-container-id-1 div.sk-text-repr-fallback {\n",
       "  display: none;\n",
       "}\n",
       "\n",
       "div.sk-parallel-item,\n",
       "div.sk-serial,\n",
       "div.sk-item {\n",
       "  /* draw centered vertical line to link estimators */\n",
       "  background-image: linear-gradient(var(--sklearn-color-text-on-default-background), var(--sklearn-color-text-on-default-background));\n",
       "  background-size: 2px 100%;\n",
       "  background-repeat: no-repeat;\n",
       "  background-position: center center;\n",
       "}\n",
       "\n",
       "/* Parallel-specific style estimator block */\n",
       "\n",
       "#sk-container-id-1 div.sk-parallel-item::after {\n",
       "  content: \"\";\n",
       "  width: 100%;\n",
       "  border-bottom: 2px solid var(--sklearn-color-text-on-default-background);\n",
       "  flex-grow: 1;\n",
       "}\n",
       "\n",
       "#sk-container-id-1 div.sk-parallel {\n",
       "  display: flex;\n",
       "  align-items: stretch;\n",
       "  justify-content: center;\n",
       "  background-color: var(--sklearn-color-background);\n",
       "  position: relative;\n",
       "}\n",
       "\n",
       "#sk-container-id-1 div.sk-parallel-item {\n",
       "  display: flex;\n",
       "  flex-direction: column;\n",
       "}\n",
       "\n",
       "#sk-container-id-1 div.sk-parallel-item:first-child::after {\n",
       "  align-self: flex-end;\n",
       "  width: 50%;\n",
       "}\n",
       "\n",
       "#sk-container-id-1 div.sk-parallel-item:last-child::after {\n",
       "  align-self: flex-start;\n",
       "  width: 50%;\n",
       "}\n",
       "\n",
       "#sk-container-id-1 div.sk-parallel-item:only-child::after {\n",
       "  width: 0;\n",
       "}\n",
       "\n",
       "/* Serial-specific style estimator block */\n",
       "\n",
       "#sk-container-id-1 div.sk-serial {\n",
       "  display: flex;\n",
       "  flex-direction: column;\n",
       "  align-items: center;\n",
       "  background-color: var(--sklearn-color-background);\n",
       "  padding-right: 1em;\n",
       "  padding-left: 1em;\n",
       "}\n",
       "\n",
       "\n",
       "/* Toggleable style: style used for estimator/Pipeline/ColumnTransformer box that is\n",
       "clickable and can be expanded/collapsed.\n",
       "- Pipeline and ColumnTransformer use this feature and define the default style\n",
       "- Estimators will overwrite some part of the style using the `sk-estimator` class\n",
       "*/\n",
       "\n",
       "/* Pipeline and ColumnTransformer style (default) */\n",
       "\n",
       "#sk-container-id-1 div.sk-toggleable {\n",
       "  /* Default theme specific background. It is overwritten whether we have a\n",
       "  specific estimator or a Pipeline/ColumnTransformer */\n",
       "  background-color: var(--sklearn-color-background);\n",
       "}\n",
       "\n",
       "/* Toggleable label */\n",
       "#sk-container-id-1 label.sk-toggleable__label {\n",
       "  cursor: pointer;\n",
       "  display: block;\n",
       "  width: 100%;\n",
       "  margin-bottom: 0;\n",
       "  padding: 0.5em;\n",
       "  box-sizing: border-box;\n",
       "  text-align: center;\n",
       "}\n",
       "\n",
       "#sk-container-id-1 label.sk-toggleable__label-arrow:before {\n",
       "  /* Arrow on the left of the label */\n",
       "  content: \"▸\";\n",
       "  float: left;\n",
       "  margin-right: 0.25em;\n",
       "  color: var(--sklearn-color-icon);\n",
       "}\n",
       "\n",
       "#sk-container-id-1 label.sk-toggleable__label-arrow:hover:before {\n",
       "  color: var(--sklearn-color-text);\n",
       "}\n",
       "\n",
       "/* Toggleable content - dropdown */\n",
       "\n",
       "#sk-container-id-1 div.sk-toggleable__content {\n",
       "  max-height: 0;\n",
       "  max-width: 0;\n",
       "  overflow: hidden;\n",
       "  text-align: left;\n",
       "  /* unfitted */\n",
       "  background-color: var(--sklearn-color-unfitted-level-0);\n",
       "}\n",
       "\n",
       "#sk-container-id-1 div.sk-toggleable__content.fitted {\n",
       "  /* fitted */\n",
       "  background-color: var(--sklearn-color-fitted-level-0);\n",
       "}\n",
       "\n",
       "#sk-container-id-1 div.sk-toggleable__content pre {\n",
       "  margin: 0.2em;\n",
       "  border-radius: 0.25em;\n",
       "  color: var(--sklearn-color-text);\n",
       "  /* unfitted */\n",
       "  background-color: var(--sklearn-color-unfitted-level-0);\n",
       "}\n",
       "\n",
       "#sk-container-id-1 div.sk-toggleable__content.fitted pre {\n",
       "  /* unfitted */\n",
       "  background-color: var(--sklearn-color-fitted-level-0);\n",
       "}\n",
       "\n",
       "#sk-container-id-1 input.sk-toggleable__control:checked~div.sk-toggleable__content {\n",
       "  /* Expand drop-down */\n",
       "  max-height: 200px;\n",
       "  max-width: 100%;\n",
       "  overflow: auto;\n",
       "}\n",
       "\n",
       "#sk-container-id-1 input.sk-toggleable__control:checked~label.sk-toggleable__label-arrow:before {\n",
       "  content: \"▾\";\n",
       "}\n",
       "\n",
       "/* Pipeline/ColumnTransformer-specific style */\n",
       "\n",
       "#sk-container-id-1 div.sk-label input.sk-toggleable__control:checked~label.sk-toggleable__label {\n",
       "  color: var(--sklearn-color-text);\n",
       "  background-color: var(--sklearn-color-unfitted-level-2);\n",
       "}\n",
       "\n",
       "#sk-container-id-1 div.sk-label.fitted input.sk-toggleable__control:checked~label.sk-toggleable__label {\n",
       "  background-color: var(--sklearn-color-fitted-level-2);\n",
       "}\n",
       "\n",
       "/* Estimator-specific style */\n",
       "\n",
       "/* Colorize estimator box */\n",
       "#sk-container-id-1 div.sk-estimator input.sk-toggleable__control:checked~label.sk-toggleable__label {\n",
       "  /* unfitted */\n",
       "  background-color: var(--sklearn-color-unfitted-level-2);\n",
       "}\n",
       "\n",
       "#sk-container-id-1 div.sk-estimator.fitted input.sk-toggleable__control:checked~label.sk-toggleable__label {\n",
       "  /* fitted */\n",
       "  background-color: var(--sklearn-color-fitted-level-2);\n",
       "}\n",
       "\n",
       "#sk-container-id-1 div.sk-label label.sk-toggleable__label,\n",
       "#sk-container-id-1 div.sk-label label {\n",
       "  /* The background is the default theme color */\n",
       "  color: var(--sklearn-color-text-on-default-background);\n",
       "}\n",
       "\n",
       "/* On hover, darken the color of the background */\n",
       "#sk-container-id-1 div.sk-label:hover label.sk-toggleable__label {\n",
       "  color: var(--sklearn-color-text);\n",
       "  background-color: var(--sklearn-color-unfitted-level-2);\n",
       "}\n",
       "\n",
       "/* Label box, darken color on hover, fitted */\n",
       "#sk-container-id-1 div.sk-label.fitted:hover label.sk-toggleable__label.fitted {\n",
       "  color: var(--sklearn-color-text);\n",
       "  background-color: var(--sklearn-color-fitted-level-2);\n",
       "}\n",
       "\n",
       "/* Estimator label */\n",
       "\n",
       "#sk-container-id-1 div.sk-label label {\n",
       "  font-family: monospace;\n",
       "  font-weight: bold;\n",
       "  display: inline-block;\n",
       "  line-height: 1.2em;\n",
       "}\n",
       "\n",
       "#sk-container-id-1 div.sk-label-container {\n",
       "  text-align: center;\n",
       "}\n",
       "\n",
       "/* Estimator-specific */\n",
       "#sk-container-id-1 div.sk-estimator {\n",
       "  font-family: monospace;\n",
       "  border: 1px dotted var(--sklearn-color-border-box);\n",
       "  border-radius: 0.25em;\n",
       "  box-sizing: border-box;\n",
       "  margin-bottom: 0.5em;\n",
       "  /* unfitted */\n",
       "  background-color: var(--sklearn-color-unfitted-level-0);\n",
       "}\n",
       "\n",
       "#sk-container-id-1 div.sk-estimator.fitted {\n",
       "  /* fitted */\n",
       "  background-color: var(--sklearn-color-fitted-level-0);\n",
       "}\n",
       "\n",
       "/* on hover */\n",
       "#sk-container-id-1 div.sk-estimator:hover {\n",
       "  /* unfitted */\n",
       "  background-color: var(--sklearn-color-unfitted-level-2);\n",
       "}\n",
       "\n",
       "#sk-container-id-1 div.sk-estimator.fitted:hover {\n",
       "  /* fitted */\n",
       "  background-color: var(--sklearn-color-fitted-level-2);\n",
       "}\n",
       "\n",
       "/* Specification for estimator info (e.g. \"i\" and \"?\") */\n",
       "\n",
       "/* Common style for \"i\" and \"?\" */\n",
       "\n",
       ".sk-estimator-doc-link,\n",
       "a:link.sk-estimator-doc-link,\n",
       "a:visited.sk-estimator-doc-link {\n",
       "  float: right;\n",
       "  font-size: smaller;\n",
       "  line-height: 1em;\n",
       "  font-family: monospace;\n",
       "  background-color: var(--sklearn-color-background);\n",
       "  border-radius: 1em;\n",
       "  height: 1em;\n",
       "  width: 1em;\n",
       "  text-decoration: none !important;\n",
       "  margin-left: 1ex;\n",
       "  /* unfitted */\n",
       "  border: var(--sklearn-color-unfitted-level-1) 1pt solid;\n",
       "  color: var(--sklearn-color-unfitted-level-1);\n",
       "}\n",
       "\n",
       ".sk-estimator-doc-link.fitted,\n",
       "a:link.sk-estimator-doc-link.fitted,\n",
       "a:visited.sk-estimator-doc-link.fitted {\n",
       "  /* fitted */\n",
       "  border: var(--sklearn-color-fitted-level-1) 1pt solid;\n",
       "  color: var(--sklearn-color-fitted-level-1);\n",
       "}\n",
       "\n",
       "/* On hover */\n",
       "div.sk-estimator:hover .sk-estimator-doc-link:hover,\n",
       ".sk-estimator-doc-link:hover,\n",
       "div.sk-label-container:hover .sk-estimator-doc-link:hover,\n",
       ".sk-estimator-doc-link:hover {\n",
       "  /* unfitted */\n",
       "  background-color: var(--sklearn-color-unfitted-level-3);\n",
       "  color: var(--sklearn-color-background);\n",
       "  text-decoration: none;\n",
       "}\n",
       "\n",
       "div.sk-estimator.fitted:hover .sk-estimator-doc-link.fitted:hover,\n",
       ".sk-estimator-doc-link.fitted:hover,\n",
       "div.sk-label-container:hover .sk-estimator-doc-link.fitted:hover,\n",
       ".sk-estimator-doc-link.fitted:hover {\n",
       "  /* fitted */\n",
       "  background-color: var(--sklearn-color-fitted-level-3);\n",
       "  color: var(--sklearn-color-background);\n",
       "  text-decoration: none;\n",
       "}\n",
       "\n",
       "/* Span, style for the box shown on hovering the info icon */\n",
       ".sk-estimator-doc-link span {\n",
       "  display: none;\n",
       "  z-index: 9999;\n",
       "  position: relative;\n",
       "  font-weight: normal;\n",
       "  right: .2ex;\n",
       "  padding: .5ex;\n",
       "  margin: .5ex;\n",
       "  width: min-content;\n",
       "  min-width: 20ex;\n",
       "  max-width: 50ex;\n",
       "  color: var(--sklearn-color-text);\n",
       "  box-shadow: 2pt 2pt 4pt #999;\n",
       "  /* unfitted */\n",
       "  background: var(--sklearn-color-unfitted-level-0);\n",
       "  border: .5pt solid var(--sklearn-color-unfitted-level-3);\n",
       "}\n",
       "\n",
       ".sk-estimator-doc-link.fitted span {\n",
       "  /* fitted */\n",
       "  background: var(--sklearn-color-fitted-level-0);\n",
       "  border: var(--sklearn-color-fitted-level-3);\n",
       "}\n",
       "\n",
       ".sk-estimator-doc-link:hover span {\n",
       "  display: block;\n",
       "}\n",
       "\n",
       "/* \"?\"-specific style due to the `<a>` HTML tag */\n",
       "\n",
       "#sk-container-id-1 a.estimator_doc_link {\n",
       "  float: right;\n",
       "  font-size: 1rem;\n",
       "  line-height: 1em;\n",
       "  font-family: monospace;\n",
       "  background-color: var(--sklearn-color-background);\n",
       "  border-radius: 1rem;\n",
       "  height: 1rem;\n",
       "  width: 1rem;\n",
       "  text-decoration: none;\n",
       "  /* unfitted */\n",
       "  color: var(--sklearn-color-unfitted-level-1);\n",
       "  border: var(--sklearn-color-unfitted-level-1) 1pt solid;\n",
       "}\n",
       "\n",
       "#sk-container-id-1 a.estimator_doc_link.fitted {\n",
       "  /* fitted */\n",
       "  border: var(--sklearn-color-fitted-level-1) 1pt solid;\n",
       "  color: var(--sklearn-color-fitted-level-1);\n",
       "}\n",
       "\n",
       "/* On hover */\n",
       "#sk-container-id-1 a.estimator_doc_link:hover {\n",
       "  /* unfitted */\n",
       "  background-color: var(--sklearn-color-unfitted-level-3);\n",
       "  color: var(--sklearn-color-background);\n",
       "  text-decoration: none;\n",
       "}\n",
       "\n",
       "#sk-container-id-1 a.estimator_doc_link.fitted:hover {\n",
       "  /* fitted */\n",
       "  background-color: var(--sklearn-color-fitted-level-3);\n",
       "}\n",
       "</style><div id=\"sk-container-id-1\" class=\"sk-top-container\"><div class=\"sk-text-repr-fallback\"><pre>Normalizer()</pre><b>In a Jupyter environment, please rerun this cell to show the HTML representation or trust the notebook. <br />On GitHub, the HTML representation is unable to render, please try loading this page with nbviewer.org.</b></div><div class=\"sk-container\" hidden><div class=\"sk-item\"><div class=\"sk-estimator fitted sk-toggleable\"><input class=\"sk-toggleable__control sk-hidden--visually\" id=\"sk-estimator-id-1\" type=\"checkbox\" checked><label for=\"sk-estimator-id-1\" class=\"sk-toggleable__label fitted sk-toggleable__label-arrow fitted\">&nbsp;&nbsp;Normalizer<a class=\"sk-estimator-doc-link fitted\" rel=\"noreferrer\" target=\"_blank\" href=\"https://scikit-learn.org/1.4/modules/generated/sklearn.preprocessing.Normalizer.html\">?<span>Documentation for Normalizer</span></a><span class=\"sk-estimator-doc-link fitted\">i<span>Fitted</span></span></label><div class=\"sk-toggleable__content fitted\"><pre>Normalizer()</pre></div> </div></div></div></div>"
      ],
      "text/plain": [
       "Normalizer()"
      ]
     },
     "execution_count": 31,
     "metadata": {},
     "output_type": "execute_result"
    }
   ],
   "source": [
    "# initialize a normalizer object that will scale the features in the df to have a unit norm (common processing step to ensure that no featues dominates due to its scale)\n",
    "scaler = Normalizer()\n",
    "cols_to_norm = list(set(list(X_train.iloc[:, 2:].columns))) # ignore first two as the represents IP addresses\n",
    "\n",
    "# fit the scaler to the training df, learning the scaling parameters\n",
    "scaler.fit(X_train[cols_to_norm])"
   ]
  },
  {
   "cell_type": "markdown",
   "metadata": {},
   "source": [
    "## 4.10. Scaling and Feature Transformation"
   ]
  },
  {
   "cell_type": "code",
   "execution_count": 32,
   "metadata": {},
   "outputs": [],
   "source": [
    "# apply the learned scaling to the training df\n",
    "X_train[cols_to_norm] = scaler.transform(X_train[cols_to_norm])\n",
    "# create a new column h in the training df, converting the rows into lists (likely for use in a model that expects a specific df format)\n",
    "X_train['h'] = X_train.iloc[:, 2:].values.tolist()\n",
    "\n",
    "# apply the learned scaling to the testing df\n",
    "X_test[cols_to_norm] = scaler.transform(X_test[cols_to_norm])\n",
    "# create a new column h in the testing df similar to the training df\n",
    "X_test['h'] = X_test.iloc[:, 2:].values.tolist()"
   ]
  },
  {
   "cell_type": "code",
   "execution_count": 33,
   "metadata": {},
   "outputs": [
    {
     "name": "stdout",
     "output_type": "stream",
     "text": [
      "(232893, 42)\n"
     ]
    }
   ],
   "source": [
    "print(X_train.shape)"
   ]
  },
  {
   "cell_type": "markdown",
   "metadata": {},
   "source": [
    "## 4.11. Transformed Features and Original Labels Concatenation"
   ]
  },
  {
   "cell_type": "code",
   "execution_count": 34,
   "metadata": {},
   "outputs": [],
   "source": [
    "# concatenate transformed features and original labels to form the final training and testing datasets\n",
    "\n",
    "# combine the features and labels into a single DataFrame for the training df\n",
    "train = pd.concat([X_train, y_train], axis=1)\n",
    "# combine the features and labels into a single DataFrame for the testing df\n",
    "test = pd.concat([X_test, y_test], axis=1)"
   ]
  },
  {
   "cell_type": "code",
   "execution_count": 35,
   "metadata": {
    "colab": {
     "base_uri": "https://localhost:8080/",
     "height": 357
    },
    "id": "hErQbsnrPluV",
    "outputId": "c4dbe223-89d5-48f5-800d-16512a77e66c"
   },
   "outputs": [],
   "source": [
    "# displays the first few rows of the training df set to get a preview of the df\n",
    "#X_train.head()"
   ]
  },
  {
   "cell_type": "markdown",
   "metadata": {},
   "source": [
    "## 4.12. Feature Selection using XGBoost"
   ]
  },
  {
   "cell_type": "code",
   "execution_count": 36,
   "metadata": {},
   "outputs": [],
   "source": [
    "def process_data_xgboost(X_train, X_test, y_train, y_test):\n",
    "    # Drop specific columns from training and testing data\n",
    "    xg_xtrain = X_train.copy()\n",
    "    xg_xtrain.drop(columns=['IPV4_SRC_ADDR', 'IPV4_DST_ADDR', 'h'], inplace=True)\n",
    "    xg_xtest = X_test.copy()\n",
    "    xg_xtest.drop(columns=['IPV4_SRC_ADDR', 'IPV4_DST_ADDR', 'h'], inplace=True)\n",
    "\n",
    "    # Custom XGBClassifier to store feature names\n",
    "    class XGBClassifierWithNames(XGBClassifier):\n",
    "        def fit(self, X, y):\n",
    "            self.feature_names = X.columns.tolist()\n",
    "            super().fit(X, y)\n",
    "\n",
    "    # Fit the model\n",
    "    model = XGBClassifierWithNames()\n",
    "    model.fit(xg_xtrain, y_train['Label'])\n",
    "\n",
    "    # print(\"Feature names:\", model.feature_names)\n",
    "    \n",
    "    # Feature importance and selection\n",
    "    thresholds = sort(model.feature_importances_)\n",
    "    print(thresholds)\n",
    "    selection = SelectFromModel(model, threshold=2.3209294e-03, prefit=True, max_features=100)\n",
    "    X_train_selected = pd.DataFrame(selection.transform(xg_xtrain), columns=xg_xtrain.columns[selection.get_support()])\n",
    "    X_test_selected = pd.DataFrame(selection.transform(xg_xtest), columns=xg_xtest.columns[selection.get_support()])\n",
    "\n",
    "    # Create subsets of features from training and test sets\n",
    "    X_first_subset = X_train.iloc[:, :2].copy()\n",
    "    X_second_subset = X_train_selected.copy()\n",
    "    X_first_subset.reset_index(drop=True, inplace=True)\n",
    "    X_second_subset.reset_index(drop=True, inplace=True) \n",
    "    X_train = pd.concat([X_first_subset, X_second_subset], axis=1)\n",
    "    X_train['h'] = X_train.iloc[:, 2:].values.tolist()\n",
    "\n",
    "    # Print shapes for debugging\n",
    "    print(X_first_subset.columns)\n",
    "    print(X_second_subset.columns)\n",
    "    print(y_train.shape)\n",
    "\n",
    "    # Repeat the process for the testing data\n",
    "    X_first_subset = X_test.iloc[:, :2].copy()\n",
    "    X_second_subset = X_test_selected.copy()\n",
    "    X_first_subset.reset_index(drop=True, inplace=True)\n",
    "    X_second_subset.reset_index(drop=True, inplace=True) \n",
    "    X_test = pd.concat([X_first_subset, X_second_subset], axis=1)\n",
    "    X_test['h'] = X_test.iloc[:, 2:].values.tolist()\n",
    "\n",
    "    # Reset indices before concatenation\n",
    "    X_train.reset_index(drop=True, inplace=True)\n",
    "    y_train.reset_index(drop=True, inplace=True)\n",
    "    X_test.reset_index(drop=True, inplace=True)\n",
    "    y_test.reset_index(drop=True, inplace=True)\n",
    "\n",
    "    # Concatenate features and labels\n",
    "    train = pd.concat([X_train, y_train], axis=1)\n",
    "    test = pd.concat([X_test, y_test], axis=1)\n",
    "\n",
    "    return train, test"
   ]
  },
  {
   "cell_type": "code",
   "execution_count": 37,
   "metadata": {},
   "outputs": [],
   "source": [
    "# do feature selection with XGBoost\n",
    "# train, test = process_data_xgboost(X_train, X_test, y_train, y_test)"
   ]
  },
  {
   "cell_type": "code",
   "execution_count": 38,
   "metadata": {},
   "outputs": [],
   "source": [
    "# print(X_train.shape)"
   ]
  },
  {
   "cell_type": "markdown",
   "metadata": {},
   "source": [
    "## 4.13. Encoding Target Variable 'Attack' for Model Input"
   ]
  },
  {
   "cell_type": "code",
   "execution_count": 39,
   "metadata": {
    "id": "d_tLtK4WPtrF"
   },
   "outputs": [],
   "source": [
    "# convert the target variable Attack into numeric codes\n",
    "\n",
    "# initialize of label encoder\n",
    "lab_enc = preprocessing.LabelEncoder()\n",
    "# fit the encoder to the target variable \"Attack\"\n",
    "lab_enc.fit(df[\"Attack\"])\n",
    "\n",
    "# convert the categorical labels in the Attack column of the train dataframe into the numeric codes learned during the fitting process\n",
    "train[\"Attack\"] = lab_enc.transform(train[\"Attack\"])\n",
    "\n",
    "# convert the categorical labels in the Attack column of the test dataframe into the numeric codes learned during the fitting process\n",
    "test[\"Attack\"] = lab_enc.transform(test[\"Attack\"])"
   ]
  },
  {
   "cell_type": "markdown",
   "metadata": {},
   "source": [
    "# 5. Graph Initialisation"
   ]
  },
  {
   "cell_type": "code",
   "execution_count": 40,
   "metadata": {
    "id": "8yaicjecP1fZ"
   },
   "outputs": [],
   "source": [
    "# Training graph\n",
    "\n",
    "train_g = nx.from_pandas_edgelist(train, \"IPV4_SRC_ADDR\", \"IPV4_DST_ADDR\",\n",
    "            [\"h\", \"Label\", \"Attack\"], create_using=nx.MultiGraph())\n",
    "\n",
    "train_g = train_g.to_directed()\n",
    "train_g = dgl.from_networkx(train_g, edge_attrs=['h', 'Attack', 'Label'])\n",
    "\n",
    "train_g = train_g.to(device)  # Move graph to GPU\n",
    "\n",
    "nfeat_weight = torch.ones([train_g.number_of_nodes(), train_g.edata['h'].shape[1]], device=device)\n",
    "train_g.ndata['h'] = nfeat_weight"
   ]
  },
  {
   "cell_type": "code",
   "execution_count": 41,
   "metadata": {},
   "outputs": [],
   "source": [
    "# Testing graph\n",
    "\n",
    "test_g = nx.from_pandas_edgelist(test, \"IPV4_SRC_ADDR\", \"IPV4_DST_ADDR\",\n",
    "            [\"h\", \"Label\", \"Attack\"], create_using=nx.MultiGraph())\n",
    "\n",
    "test_g = test_g.to_directed()\n",
    "test_g = dgl.from_networkx(test_g, edge_attrs=['h', 'Attack', 'Label'])\n",
    "test_g = test_g.to(device)  # Move graph to GPU\n",
    "nfeat_weight = torch.ones([test_g.number_of_nodes(), test_g.edata['h'].shape[1]], device=device)\n",
    "test_g.ndata['h'] = nfeat_weight"
   ]
  },
  {
   "cell_type": "markdown",
   "metadata": {},
   "source": [
    "# 6. Model Training"
   ]
  },
  {
   "cell_type": "markdown",
   "metadata": {},
   "source": [
    "## 6.1. Model Initialisation"
   ]
  },
  {
   "cell_type": "markdown",
   "metadata": {},
   "source": [
    "### 6.1.1. Hyperparameter values used in Anomal-E"
   ]
  },
  {
   "cell_type": "code",
   "execution_count": 42,
   "metadata": {
    "id": "sKnfpWFMR19u"
   },
   "outputs": [],
   "source": [
    "ndim_in = train_g.ndata['h'].shape[1]\n",
    "num_layers = 1\n",
    "hidden_features = 128  # though the paper says 256\n",
    "learning_rate = 1e-3\n",
    "ndim_out = 128\n",
    "edim = train_g.edata['h'].shape[1]\n",
    "epochs = 4000"
   ]
  },
  {
   "cell_type": "markdown",
   "metadata": {},
   "source": [
    "### 6.1.2. DGI Initialization"
   ]
  },
  {
   "cell_type": "code",
   "execution_count": 43,
   "metadata": {
    "id": "aSl_9qY8SbA0"
   },
   "outputs": [],
   "source": [
    "dgi = DGI(ndim_in, \n",
    "          ndim_out, \n",
    "          edim, \n",
    "          F.relu)\n",
    "\n",
    "dgi = dgi.to(device)  # Move the model to the device (GPU)\n",
    "\n",
    "dgi_optimizer = torch.optim.Adam(dgi.parameters(),\n",
    "                                lr=learning_rate,\n",
    "                                weight_decay=0.)"
   ]
  },
  {
   "cell_type": "markdown",
   "metadata": {},
   "source": [
    "### 6.1.2. Format node and edge features for E-GraphSAGE"
   ]
  },
  {
   "cell_type": "code",
   "execution_count": 44,
   "metadata": {},
   "outputs": [],
   "source": [
    "train_g.ndata['h'] = torch.reshape(train_g.ndata['h'],\n",
    "                                   (train_g.ndata['h'].shape[0], 1,\n",
    "                                    train_g.ndata['h'].shape[1])).to(device)\n",
    "\n",
    "train_g.edata['h'] = torch.reshape(train_g.edata['h'],\n",
    "                                   (train_g.edata['h'].shape[0], 1,\n",
    "                                    train_g.edata['h'].shape[1])).to(device)"
   ]
  },
  {
   "cell_type": "markdown",
   "metadata": {},
   "source": [
    "## 6.2. Training loop"
   ]
  },
  {
   "cell_type": "code",
   "execution_count": 45,
   "metadata": {},
   "outputs": [],
   "source": [
    "cnt_wait = 0\n",
    "best = 1e9\n",
    "best_t = 0\n",
    "dur = []\n",
    "node_features = train_g.ndata['h']\n",
    "edge_features = train_g.edata['h']"
   ]
  },
  {
   "cell_type": "code",
   "execution_count": 46,
   "metadata": {},
   "outputs": [],
   "source": [
    "def train_model(epochs, dgi, train_g, node_features, edge_features, dgi_optimizer, best=float('inf'), best_t=0, cnt_wait=0, dur=[]):\n",
    "    \"\"\"\n",
    "    Train a model over a specified number of epochs and update its parameters.\n",
    "\n",
    "    Parameters:\n",
    "    - epochs (int): Number of epochs to train.\n",
    "    - dgi (torch.nn.Module): The model to train.\n",
    "    - train_g (DGLGraph): The graph data.\n",
    "    - node_features (Tensor): Features of the nodes.\n",
    "    - edge_features (Tensor): Features of the edges.\n",
    "    - dgi_optimizer (torch.optim.Optimizer): Optimizer for the model.\n",
    "    - best (float): The best loss value encountered during training.\n",
    "    - best_t (int): The epoch number with the best loss.\n",
    "    - cnt_wait (int): Counter for patience in early stopping logic.\n",
    "    - dur (list): List to accumulate epoch durations.\n",
    "\n",
    "    Returns:\n",
    "    - best (float): Best loss achieved.\n",
    "    - best_t (int): Epoch of the best loss.\n",
    "    - model_path (str): Path to the saved model.\n",
    "    - losses (list): List of loss values per epoch.\n",
    "    \"\"\"\n",
    "    losses = []  # Initialize list to store loss values\n",
    "    for epoch in range(epochs):\n",
    "        dgi.train()  # Set model to training mode\n",
    "        if epoch >= 3:\n",
    "            t0 = time.time()\n",
    "\n",
    "        dgi_optimizer.zero_grad()\n",
    "        loss = dgi(train_g, node_features, edge_features)\n",
    "        loss.backward()\n",
    "        dgi_optimizer.step()\n",
    "        losses.append(loss.item())  # Record the loss for this epoch\n",
    "\n",
    "        if loss < best:\n",
    "            best = loss\n",
    "            best_t = epoch\n",
    "            cnt_wait = 0\n",
    "            model_path = 'best_dgi.pkl'\n",
    "            torch.save(dgi.state_dict(), model_path)\n",
    "        else:\n",
    "            cnt_wait += 1\n",
    "\n",
    "        # Uncomment to enable early stopping\n",
    "        # if cnt_wait == patience:\n",
    "        #     print('Early stopping!')\n",
    "        #     break\n",
    "\n",
    "        if epoch >= 3:\n",
    "            dur.append(time.time() - t0)\n",
    "\n",
    "        if epoch % 50 == 0:\n",
    "            print(\"Epoch {:05d} | Time(s) {:.4f} | Loss {:.4f} | ETputs(KTEPS) {:.2f}\".format(\n",
    "                epoch, np.mean(dur), loss.item(), train_g.num_edges() / np.mean(dur) / 1000))\n",
    "\n",
    "    return best, best_t, model_path, losses\n"
   ]
  },
  {
   "cell_type": "code",
   "execution_count": 47,
   "metadata": {},
   "outputs": [],
   "source": [
    "# plot loss function\n",
    "def plot_losses(losses):\n",
    "    \"\"\"\n",
    "    Plot the training losses over epochs.\n",
    "\n",
    "    Parameters:\n",
    "    - losses (list): A list of loss values recorded over training epochs.\n",
    "    \"\"\"\n",
    "    plt.figure(figsize=(10, 5))\n",
    "    plt.plot(losses, label='Training Loss')\n",
    "    plt.title('Training Loss Over Epochs')\n",
    "    plt.xlabel('Epoch')\n",
    "    plt.ylabel('Loss')\n",
    "    plt.legend()\n",
    "    plt.grid(True)\n",
    "    plt.show()\n"
   ]
  },
  {
   "cell_type": "markdown",
   "metadata": {},
   "source": [
    "**_Train the model below!_**"
   ]
  },
  {
   "cell_type": "code",
   "execution_count": 48,
   "metadata": {},
   "outputs": [
    {
     "name": "stderr",
     "output_type": "stream",
     "text": [
      "c:\\Users\\helen\\Documents\\Concordia University\\INSE 6180\\project\\conda_anomal_e_venv\\Lib\\site-packages\\numpy\\core\\fromnumeric.py:3504: RuntimeWarning: Mean of empty slice.\n",
      "  return _methods._mean(a, axis=axis, dtype=dtype,\n",
      "c:\\Users\\helen\\Documents\\Concordia University\\INSE 6180\\project\\conda_anomal_e_venv\\Lib\\site-packages\\numpy\\core\\_methods.py:129: RuntimeWarning: invalid value encountered in scalar divide\n",
      "  ret = ret.dtype.type(ret / rcount)\n"
     ]
    },
    {
     "name": "stdout",
     "output_type": "stream",
     "text": [
      "Epoch 00000 | Time(s) nan | Loss 1.4190 | ETputs(KTEPS) nan\n",
      "Epoch 00050 | Time(s) 0.2510 | Loss 1.2149 | ETputs(KTEPS) 1854.67\n",
      "Epoch 00100 | Time(s) 0.2513 | Loss 0.1458 | ETputs(KTEPS) 1852.10\n",
      "Epoch 00150 | Time(s) 0.2513 | Loss 0.0817 | ETputs(KTEPS) 1851.96\n",
      "Epoch 00200 | Time(s) 0.2509 | Loss 0.0609 | ETputs(KTEPS) 1854.87\n",
      "Epoch 00250 | Time(s) 0.2507 | Loss 0.0509 | ETputs(KTEPS) 1856.52\n",
      "Epoch 00300 | Time(s) 0.2503 | Loss 0.0448 | ETputs(KTEPS) 1859.75\n",
      "Epoch 00350 | Time(s) 0.2492 | Loss 0.0388 | ETputs(KTEPS) 1867.69\n",
      "Epoch 00400 | Time(s) 0.2485 | Loss 0.0328 | ETputs(KTEPS) 1873.16\n",
      "Epoch 00450 | Time(s) 0.2479 | Loss 0.0286 | ETputs(KTEPS) 1877.90\n",
      "Epoch 00500 | Time(s) 0.2474 | Loss 0.0260 | ETputs(KTEPS) 1881.07\n",
      "Epoch 00550 | Time(s) 0.2470 | Loss 0.0228 | ETputs(KTEPS) 1884.16\n",
      "Epoch 00600 | Time(s) 0.2467 | Loss 0.0213 | ETputs(KTEPS) 1886.45\n",
      "Epoch 00650 | Time(s) 0.2465 | Loss 0.0202 | ETputs(KTEPS) 1888.58\n",
      "Epoch 00700 | Time(s) 0.2462 | Loss 0.0195 | ETputs(KTEPS) 1890.58\n",
      "Epoch 00750 | Time(s) 0.2460 | Loss 0.0169 | ETputs(KTEPS) 1892.21\n",
      "Epoch 00800 | Time(s) 0.2458 | Loss 0.0171 | ETputs(KTEPS) 1893.94\n",
      "Epoch 00850 | Time(s) 0.2456 | Loss 0.0163 | ETputs(KTEPS) 1895.42\n",
      "Epoch 00900 | Time(s) 0.2454 | Loss 0.0159 | ETputs(KTEPS) 1896.66\n",
      "Epoch 00950 | Time(s) 0.2453 | Loss 0.0163 | ETputs(KTEPS) 1897.68\n",
      "Epoch 01000 | Time(s) 0.2451 | Loss 0.0164 | ETputs(KTEPS) 1898.80\n",
      "Epoch 01050 | Time(s) 0.2450 | Loss 0.0146 | ETputs(KTEPS) 1899.81\n",
      "Epoch 01100 | Time(s) 0.2449 | Loss 0.0133 | ETputs(KTEPS) 1900.91\n",
      "Epoch 01150 | Time(s) 0.2448 | Loss 0.0143 | ETputs(KTEPS) 1901.69\n",
      "Epoch 01200 | Time(s) 0.2447 | Loss 0.0128 | ETputs(KTEPS) 1902.51\n",
      "Epoch 01250 | Time(s) 0.2445 | Loss 0.0132 | ETputs(KTEPS) 1903.42\n",
      "Epoch 01300 | Time(s) 0.2445 | Loss 0.0120 | ETputs(KTEPS) 1904.10\n",
      "Epoch 01350 | Time(s) 0.2444 | Loss 0.0112 | ETputs(KTEPS) 1904.63\n",
      "Epoch 01400 | Time(s) 0.2443 | Loss 0.0112 | ETputs(KTEPS) 1905.08\n",
      "Epoch 01450 | Time(s) 0.2442 | Loss 0.0105 | ETputs(KTEPS) 1905.74\n",
      "Epoch 01500 | Time(s) 0.2442 | Loss 0.0104 | ETputs(KTEPS) 1906.22\n",
      "Epoch 01550 | Time(s) 0.2441 | Loss 2.7106 | ETputs(KTEPS) 1906.49\n",
      "Epoch 01600 | Time(s) 0.2441 | Loss 0.2534 | ETputs(KTEPS) 1907.22\n",
      "Epoch 01650 | Time(s) 0.2440 | Loss 0.0813 | ETputs(KTEPS) 1907.80\n",
      "Epoch 01700 | Time(s) 0.2439 | Loss 0.0524 | ETputs(KTEPS) 1908.59\n",
      "Epoch 01750 | Time(s) 0.2438 | Loss 0.0420 | ETputs(KTEPS) 1909.06\n",
      "Epoch 01800 | Time(s) 0.2437 | Loss 0.0368 | ETputs(KTEPS) 1909.65\n",
      "Epoch 01850 | Time(s) 0.2437 | Loss 0.0338 | ETputs(KTEPS) 1910.29\n",
      "Epoch 01900 | Time(s) 0.2436 | Loss 0.0301 | ETputs(KTEPS) 1910.81\n",
      "Epoch 01950 | Time(s) 0.2435 | Loss 0.0283 | ETputs(KTEPS) 1911.28\n",
      "Epoch 02000 | Time(s) 0.2435 | Loss 0.0264 | ETputs(KTEPS) 1911.76\n",
      "Epoch 02050 | Time(s) 0.2434 | Loss 0.0241 | ETputs(KTEPS) 1912.14\n",
      "Epoch 02100 | Time(s) 0.2434 | Loss 0.0232 | ETputs(KTEPS) 1912.50\n",
      "Epoch 02150 | Time(s) 0.2433 | Loss 0.0212 | ETputs(KTEPS) 1912.87\n",
      "Epoch 02200 | Time(s) 0.2433 | Loss 0.0212 | ETputs(KTEPS) 1913.29\n",
      "Epoch 02250 | Time(s) 0.2432 | Loss 0.0203 | ETputs(KTEPS) 1913.56\n",
      "Epoch 02300 | Time(s) 0.2432 | Loss 0.0189 | ETputs(KTEPS) 1913.96\n",
      "Epoch 02350 | Time(s) 0.2431 | Loss 0.0181 | ETputs(KTEPS) 1914.32\n",
      "Epoch 02400 | Time(s) 0.2431 | Loss 0.0175 | ETputs(KTEPS) 1914.62\n",
      "Epoch 02450 | Time(s) 0.2431 | Loss 0.0172 | ETputs(KTEPS) 1914.86\n",
      "Epoch 02500 | Time(s) 0.2430 | Loss 0.0163 | ETputs(KTEPS) 1915.12\n",
      "Epoch 02550 | Time(s) 0.2430 | Loss 0.0162 | ETputs(KTEPS) 1915.40\n",
      "Epoch 02600 | Time(s) 0.2430 | Loss 0.0157 | ETputs(KTEPS) 1915.69\n",
      "Epoch 02650 | Time(s) 0.2429 | Loss 0.0154 | ETputs(KTEPS) 1916.06\n",
      "Epoch 02700 | Time(s) 0.2429 | Loss 0.0151 | ETputs(KTEPS) 1916.28\n",
      "Epoch 02750 | Time(s) 0.2429 | Loss 0.0142 | ETputs(KTEPS) 1916.65\n",
      "Epoch 02800 | Time(s) 0.2428 | Loss 0.0145 | ETputs(KTEPS) 1917.01\n",
      "Epoch 02850 | Time(s) 0.2428 | Loss 0.0137 | ETputs(KTEPS) 1917.29\n",
      "Epoch 02900 | Time(s) 0.2427 | Loss 0.0134 | ETputs(KTEPS) 1917.53\n",
      "Epoch 02950 | Time(s) 0.2427 | Loss 0.0135 | ETputs(KTEPS) 1917.60\n",
      "Epoch 03000 | Time(s) 0.2427 | Loss 0.0129 | ETputs(KTEPS) 1917.69\n",
      "Epoch 03050 | Time(s) 0.2427 | Loss 0.0129 | ETputs(KTEPS) 1917.74\n",
      "Epoch 03100 | Time(s) 0.2427 | Loss 0.0125 | ETputs(KTEPS) 1917.80\n",
      "Epoch 03150 | Time(s) 0.2427 | Loss 0.0122 | ETputs(KTEPS) 1917.85\n",
      "Epoch 03200 | Time(s) 0.2427 | Loss 0.0121 | ETputs(KTEPS) 1917.92\n",
      "Epoch 03250 | Time(s) 0.2427 | Loss 0.0121 | ETputs(KTEPS) 1917.97\n",
      "Epoch 03300 | Time(s) 0.2427 | Loss 0.0116 | ETputs(KTEPS) 1917.99\n",
      "Epoch 03350 | Time(s) 0.2427 | Loss 0.0113 | ETputs(KTEPS) 1918.11\n",
      "Epoch 03400 | Time(s) 0.2427 | Loss 0.0121 | ETputs(KTEPS) 1918.22\n",
      "Epoch 03450 | Time(s) 0.2426 | Loss 0.0112 | ETputs(KTEPS) 1918.30\n",
      "Epoch 03500 | Time(s) 0.2426 | Loss 0.0114 | ETputs(KTEPS) 1918.27\n",
      "Epoch 03550 | Time(s) 0.2427 | Loss 0.0113 | ETputs(KTEPS) 1918.26\n",
      "Epoch 03600 | Time(s) 0.2426 | Loss 0.0110 | ETputs(KTEPS) 1918.36\n",
      "Epoch 03650 | Time(s) 0.2426 | Loss 0.0113 | ETputs(KTEPS) 1918.43\n",
      "Epoch 03700 | Time(s) 0.2426 | Loss 0.0111 | ETputs(KTEPS) 1918.55\n",
      "Epoch 03750 | Time(s) 0.2426 | Loss 0.0108 | ETputs(KTEPS) 1918.64\n",
      "Epoch 03800 | Time(s) 0.2426 | Loss 0.0110 | ETputs(KTEPS) 1918.73\n",
      "Epoch 03850 | Time(s) 0.2426 | Loss 0.0100 | ETputs(KTEPS) 1918.81\n",
      "Epoch 03900 | Time(s) 0.2426 | Loss 0.0101 | ETputs(KTEPS) 1918.90\n",
      "Epoch 03950 | Time(s) 0.2425 | Loss 0.0103 | ETputs(KTEPS) 1919.06\n"
     ]
    }
   ],
   "source": [
    "best, best_t, model_path, losses = train_model(epochs, \n",
    "                                               dgi, \n",
    "                                               train_g, \n",
    "                                               node_features, \n",
    "                                               edge_features, \n",
    "                                               dgi_optimizer, \n",
    "                                               best, \n",
    "                                               best_t, \n",
    "                                               cnt_wait, \n",
    "                                               dur)\n"
   ]
  },
  {
   "cell_type": "code",
   "execution_count": 49,
   "metadata": {},
   "outputs": [
    {
     "data": {
      "image/png": "[encoded data removed]",
      "text/plain": [
       "<Figure size 1000x500 with 1 Axes>"
      ]
     },
     "metadata": {},
     "output_type": "display_data"
    }
   ],
   "source": [
    "# now plotting the loss curve\n",
    "plot_losses(losses)"
   ]
  },
  {
   "cell_type": "code",
   "execution_count": 50,
   "metadata": {},
   "outputs": [
    {
     "name": "stdout",
     "output_type": "stream",
     "text": [
      "best loss tensor(0.0095, device='cuda:0', grad_fn=<AddBackward0>)\n",
      "best loss time 3991\n"
     ]
    }
   ],
   "source": [
    "print(\"best loss\", best)\n",
    "print(\"best loss time\", best_t)"
   ]
  },
  {
   "cell_type": "markdown",
   "metadata": {},
   "source": [
    "# 7. Post training"
   ]
  },
  {
   "cell_type": "markdown",
   "metadata": {},
   "source": [
    "## 7.1. Load the Best Model"
   ]
  },
  {
   "cell_type": "code",
   "execution_count": 51,
   "metadata": {},
   "outputs": [
    {
     "data": {
      "text/plain": [
       "<All keys matched successfully>"
      ]
     },
     "execution_count": 51,
     "metadata": {},
     "output_type": "execute_result"
    }
   ],
   "source": [
    "dgi.load_state_dict(torch.load(model_path, map_location=device))"
   ]
  },
  {
   "cell_type": "markdown",
   "metadata": {},
   "source": [
    "## 7.2. Processing Training Data"
   ]
  },
  {
   "cell_type": "code",
   "execution_count": 52,
   "metadata": {},
   "outputs": [],
   "source": [
    "## Get embeddings from the model, detach from the computation graph, and move to CPU for further processing\n",
    "training_emb = dgi.encoder(train_g.to(device), \n",
    "                           train_g.ndata['h'].to(device), \n",
    "                           train_g.edata['h'].to(device))[1]\n",
    "\n",
    "training_emb = training_emb.detach().cpu().numpy()"
   ]
  },
  {
   "cell_type": "markdown",
   "metadata": {},
   "source": [
    "## 7.3. Reshape Features for Testing"
   ]
  },
  {
   "cell_type": "code",
   "execution_count": 53,
   "metadata": {},
   "outputs": [],
   "source": [
    "# Before predicting the test set, reshape the features to match the input requirement of the model\n",
    "test_g.ndata['h'] = torch.reshape(test_g.ndata['h'], \n",
    "                                  (test_g.ndata['h'].shape[0], 1, \n",
    "                                   test_g.ndata['h'].shape[1])).to(device)\n",
    "\n",
    "test_g.edata['h'] = torch.reshape(test_g.edata['h'], \n",
    "                                  (test_g.edata['h'].shape[0], 1, \n",
    "                                   test_g.edata['h'].shape[1])).to(device)\n"
   ]
  },
  {
   "cell_type": "markdown",
   "metadata": {},
   "source": [
    "## 7.4. Process Testing Data"
   ]
  },
  {
   "cell_type": "code",
   "execution_count": 54,
   "metadata": {},
   "outputs": [],
   "source": [
    "## Get embeddings for the test graph, similar to the training graph\n",
    "testing_emb = dgi.encoder(test_g, test_g.ndata['h'], test_g.edata['h'])[1]\n",
    "testing_emb = testing_emb.detach().cpu().numpy()"
   ]
  },
  {
   "cell_type": "markdown",
   "metadata": {},
   "source": [
    "## 7.5. Prepare DataFrame for Training Results"
   ]
  },
  {
   "cell_type": "code",
   "execution_count": 55,
   "metadata": {},
   "outputs": [],
   "source": [
    "## Create a DataFrame for training embeddings and add labels and attack types\n",
    "df_train = pd.DataFrame(training_emb)\n",
    "df_train[\"Attack\"] = lab_enc.inverse_transform(train_g.edata['Attack'].detach().cpu().numpy())\n",
    "df_train[\"Label\"] = train_g.edata['Label'].detach().cpu().numpy()"
   ]
  },
  {
   "cell_type": "markdown",
   "metadata": {},
   "source": [
    "## 7.6. Prepare DataFrame for Testing Result"
   ]
  },
  {
   "cell_type": "code",
   "execution_count": 56,
   "metadata": {},
   "outputs": [],
   "source": [
    "## Similar to the training DataFrame, create one for the test embeddings\n",
    "df_test = pd.DataFrame(testing_emb)\n",
    "df_test[\"Attack\"] = lab_enc.inverse_transform(test_g.edata['Attack'].detach().cpu().numpy())\n",
    "df_test[\"Label\"] = test_g.edata['Label'].detach().cpu().numpy()\n"
   ]
  },
  {
   "cell_type": "markdown",
   "metadata": {},
   "source": [
    "## 7.8. Display Training DataFrame"
   ]
  },
  {
   "cell_type": "code",
   "execution_count": 57,
   "metadata": {},
   "outputs": [
    {
     "data": {
      "text/html": [
       "<div>\n",
       "<style scoped>\n",
       "    .dataframe tbody tr th:only-of-type {\n",
       "        vertical-align: middle;\n",
       "    }\n",
       "\n",
       "    .dataframe tbody tr th {\n",
       "        vertical-align: top;\n",
       "    }\n",
       "\n",
       "    .dataframe thead th {\n",
       "        text-align: right;\n",
       "    }\n",
       "</style>\n",
       "<table border=\"1\" class=\"dataframe\">\n",
       "  <thead>\n",
       "    <tr style=\"text-align: right;\">\n",
       "      <th></th>\n",
       "      <th>0</th>\n",
       "      <th>1</th>\n",
       "      <th>2</th>\n",
       "      <th>3</th>\n",
       "      <th>4</th>\n",
       "      <th>5</th>\n",
       "      <th>6</th>\n",
       "      <th>7</th>\n",
       "      <th>8</th>\n",
       "      <th>9</th>\n",
       "      <th>...</th>\n",
       "      <th>248</th>\n",
       "      <th>249</th>\n",
       "      <th>250</th>\n",
       "      <th>251</th>\n",
       "      <th>252</th>\n",
       "      <th>253</th>\n",
       "      <th>254</th>\n",
       "      <th>255</th>\n",
       "      <th>Attack</th>\n",
       "      <th>Label</th>\n",
       "    </tr>\n",
       "  </thead>\n",
       "  <tbody>\n",
       "    <tr>\n",
       "      <th>0</th>\n",
       "      <td>0.025301</td>\n",
       "      <td>-0.019971</td>\n",
       "      <td>-0.02902</td>\n",
       "      <td>-0.052693</td>\n",
       "      <td>-0.014652</td>\n",
       "      <td>0.028321</td>\n",
       "      <td>-0.049849</td>\n",
       "      <td>-0.044027</td>\n",
       "      <td>0.057083</td>\n",
       "      <td>-0.004885</td>\n",
       "      <td>...</td>\n",
       "      <td>-0.000599</td>\n",
       "      <td>-0.026778</td>\n",
       "      <td>-0.040787</td>\n",
       "      <td>0.041699</td>\n",
       "      <td>0.042118</td>\n",
       "      <td>0.050101</td>\n",
       "      <td>0.000171</td>\n",
       "      <td>-0.00573</td>\n",
       "      <td>Benign</td>\n",
       "      <td>0</td>\n",
       "    </tr>\n",
       "    <tr>\n",
       "      <th>1</th>\n",
       "      <td>0.025301</td>\n",
       "      <td>-0.019971</td>\n",
       "      <td>-0.02902</td>\n",
       "      <td>-0.052693</td>\n",
       "      <td>-0.014652</td>\n",
       "      <td>0.028321</td>\n",
       "      <td>-0.049849</td>\n",
       "      <td>-0.044027</td>\n",
       "      <td>0.057083</td>\n",
       "      <td>-0.004885</td>\n",
       "      <td>...</td>\n",
       "      <td>-0.000599</td>\n",
       "      <td>-0.026778</td>\n",
       "      <td>-0.040787</td>\n",
       "      <td>0.041699</td>\n",
       "      <td>0.042118</td>\n",
       "      <td>0.050101</td>\n",
       "      <td>0.000171</td>\n",
       "      <td>-0.00573</td>\n",
       "      <td>Benign</td>\n",
       "      <td>0</td>\n",
       "    </tr>\n",
       "    <tr>\n",
       "      <th>2</th>\n",
       "      <td>0.025301</td>\n",
       "      <td>-0.019971</td>\n",
       "      <td>-0.02902</td>\n",
       "      <td>-0.052693</td>\n",
       "      <td>-0.014652</td>\n",
       "      <td>0.028321</td>\n",
       "      <td>-0.049849</td>\n",
       "      <td>-0.044027</td>\n",
       "      <td>0.057083</td>\n",
       "      <td>-0.004885</td>\n",
       "      <td>...</td>\n",
       "      <td>-0.000599</td>\n",
       "      <td>-0.026778</td>\n",
       "      <td>-0.040787</td>\n",
       "      <td>0.041699</td>\n",
       "      <td>0.042118</td>\n",
       "      <td>0.050101</td>\n",
       "      <td>0.000171</td>\n",
       "      <td>-0.00573</td>\n",
       "      <td>Benign</td>\n",
       "      <td>0</td>\n",
       "    </tr>\n",
       "    <tr>\n",
       "      <th>3</th>\n",
       "      <td>0.025301</td>\n",
       "      <td>-0.019971</td>\n",
       "      <td>-0.02902</td>\n",
       "      <td>-0.052693</td>\n",
       "      <td>-0.014652</td>\n",
       "      <td>0.028321</td>\n",
       "      <td>-0.049849</td>\n",
       "      <td>-0.044027</td>\n",
       "      <td>0.057083</td>\n",
       "      <td>-0.004885</td>\n",
       "      <td>...</td>\n",
       "      <td>-0.000599</td>\n",
       "      <td>-0.026778</td>\n",
       "      <td>-0.040787</td>\n",
       "      <td>0.041699</td>\n",
       "      <td>0.042118</td>\n",
       "      <td>0.050101</td>\n",
       "      <td>0.000171</td>\n",
       "      <td>-0.00573</td>\n",
       "      <td>Benign</td>\n",
       "      <td>0</td>\n",
       "    </tr>\n",
       "    <tr>\n",
       "      <th>4</th>\n",
       "      <td>0.025301</td>\n",
       "      <td>-0.019971</td>\n",
       "      <td>-0.02902</td>\n",
       "      <td>-0.052693</td>\n",
       "      <td>-0.014652</td>\n",
       "      <td>0.028321</td>\n",
       "      <td>-0.049849</td>\n",
       "      <td>-0.044027</td>\n",
       "      <td>0.057083</td>\n",
       "      <td>-0.004885</td>\n",
       "      <td>...</td>\n",
       "      <td>-0.000599</td>\n",
       "      <td>-0.026778</td>\n",
       "      <td>-0.040787</td>\n",
       "      <td>0.041699</td>\n",
       "      <td>0.042118</td>\n",
       "      <td>0.050101</td>\n",
       "      <td>0.000171</td>\n",
       "      <td>-0.00573</td>\n",
       "      <td>Benign</td>\n",
       "      <td>0</td>\n",
       "    </tr>\n",
       "  </tbody>\n",
       "</table>\n",
       "<p>5 rows × 258 columns</p>\n",
       "</div>"
      ],
      "text/plain": [
       "          0         1        2         3         4         5         6  \\\n",
       "0  0.025301 -0.019971 -0.02902 -0.052693 -0.014652  0.028321 -0.049849   \n",
       "1  0.025301 -0.019971 -0.02902 -0.052693 -0.014652  0.028321 -0.049849   \n",
       "2  0.025301 -0.019971 -0.02902 -0.052693 -0.014652  0.028321 -0.049849   \n",
       "3  0.025301 -0.019971 -0.02902 -0.052693 -0.014652  0.028321 -0.049849   \n",
       "4  0.025301 -0.019971 -0.02902 -0.052693 -0.014652  0.028321 -0.049849   \n",
       "\n",
       "          7         8         9  ...       248       249       250       251  \\\n",
       "0 -0.044027  0.057083 -0.004885  ... -0.000599 -0.026778 -0.040787  0.041699   \n",
       "1 -0.044027  0.057083 -0.004885  ... -0.000599 -0.026778 -0.040787  0.041699   \n",
       "2 -0.044027  0.057083 -0.004885  ... -0.000599 -0.026778 -0.040787  0.041699   \n",
       "3 -0.044027  0.057083 -0.004885  ... -0.000599 -0.026778 -0.040787  0.041699   \n",
       "4 -0.044027  0.057083 -0.004885  ... -0.000599 -0.026778 -0.040787  0.041699   \n",
       "\n",
       "        252       253       254      255  Attack  Label  \n",
       "0  0.042118  0.050101  0.000171 -0.00573  Benign      0  \n",
       "1  0.042118  0.050101  0.000171 -0.00573  Benign      0  \n",
       "2  0.042118  0.050101  0.000171 -0.00573  Benign      0  \n",
       "3  0.042118  0.050101  0.000171 -0.00573  Benign      0  \n",
       "4  0.042118  0.050101  0.000171 -0.00573  Benign      0  \n",
       "\n",
       "[5 rows x 258 columns]"
      ]
     },
     "execution_count": 57,
     "metadata": {},
     "output_type": "execute_result"
    }
   ],
   "source": [
    "## This is useful to see the outputs right after processing the data\n",
    "df_train.head()"
   ]
  },
  {
   "cell_type": "markdown",
   "metadata": {
    "id": "7ScEk1y_TzzX"
   },
   "source": [
    "# 8. Anomaly Detection"
   ]
  },
  {
   "cell_type": "markdown",
   "metadata": {},
   "source": [
    "## 8.1. Train and Test Samples"
   ]
  },
  {
   "cell_type": "code",
   "execution_count": 58,
   "metadata": {
    "id": "RkFS_-dcTJeK"
   },
   "outputs": [],
   "source": [
    "# benign train samples ()\n",
    "benign_train_samples = df_train[df_train.Label == 0].drop(columns=[\"Label\", \"Attack\"])\n",
    "normal_train_samples = df_train.drop(columns=[\"Label\", \"Attack\"])\n",
    "\n",
    "train_labels = df_train[\"Label\"]\n",
    "test_labels = df_test[\"Label\"]\n",
    "\n",
    "test_samples = df_test.drop(columns=[\"Label\", \"Attack\"])"
   ]
  },
  {
   "cell_type": "markdown",
   "metadata": {},
   "source": [
    "## 8.2. Hyperparameters values used in grid search for classification models"
   ]
  },
  {
   "cell_type": "markdown",
   "metadata": {},
   "source": [
    "### 8.2.1. Contamination Level"
   ]
  },
  {
   "cell_type": "code",
   "execution_count": 59,
   "metadata": {},
   "outputs": [],
   "source": [
    "# contamination is supposed to be the percentage of attacks in the set\n",
    "# if it's only benign samples, there is no attack\n",
    "\n",
    "contamination = [0.001, 0.01, 0.04, 0.05, 0.1, 0.2, 0.5, 0.6, 0.7]"
   ]
  },
  {
   "cell_type": "markdown",
   "metadata": {},
   "source": [
    "### 8.2.2. Hyperparameters specific to each model"
   ]
  },
  {
   "cell_type": "code",
   "execution_count": 78,
   "metadata": {},
   "outputs": [],
   "source": [
    "n_clusters = [2, 3, 5, 7, 9, 10, 14, 17, 20, 25, 30, 40, 50, 100]  # CBLOF number of clusters \n",
    "n_bins = [5, 10, 15, 20, 25, 30]  # HBOS number of bins \n",
    "n_components = [5, 10, 15, 20, 25, 30]  # PCA number of components\n",
    "n_estimators = [20, 50, 100, 150]  # IF number of estimators \n"
   ]
  },
  {
   "cell_type": "markdown",
   "metadata": {},
   "source": [
    "## 8.3. Classification Models"
   ]
  },
  {
   "cell_type": "markdown",
   "metadata": {},
   "source": [
    "### 8.3.1. Cluster-Based Local Outlier Factor (CBLOF) Model"
   ]
  },
  {
   "cell_type": "code",
   "execution_count": 61,
   "metadata": {},
   "outputs": [],
   "source": [
    "# determine the best configuration for a CBLOF model based on F1 score performance\n",
    "\n",
    "def find_best_cblof_parameters(n_clusters, contamination, train_samples, test_samples, test_labels):\n",
    "    \"\"\"\n",
    "    Determine the best parameters for the CBLOF model based on F1 score.\n",
    "\n",
    "    Parameters:\n",
    "    - n_estimators (list): List of n_clusters values to try.\n",
    "    - contamination (list): List of contamination fraction values to try.\n",
    "    - train_samples (DataFrame): Training data samples.\n",
    "    - test_samples (DataFrame): Testing data samples.\n",
    "    - test_labels (Series): True labels for the test data.\n",
    "\n",
    "    Returns:\n",
    "    - best_params (dict): Dictionary containing the best parameters.\n",
    "    - score (float): Best F1 score achieved.\n",
    "    - best_classification_report (str): Classification report for the best parameters.\n",
    "    \"\"\"\n",
    "    params = list(itertools.product(n_clusters, contamination))\n",
    "    score = -1\n",
    "    best_classification_report = None\n",
    "    bs = None\n",
    "    best_params = None\n",
    "\n",
    "    for n_cluster, con in tqdm(params):\n",
    "        clf_if = CBLOF(n_clusters=n_cluster, contamination=con)\n",
    "        clf_if.fit(train_samples)\n",
    "        y_pred = clf_if.predict(test_samples)\n",
    "        test_pred = y_pred\n",
    "\n",
    "        f1 = f1_score(test_labels, test_pred, average='macro')\n",
    "\n",
    "        if f1 > score:\n",
    "            score = f1\n",
    "            best_params = {'n_clusters': n_cluster, \"contamination\": con}\n",
    "            bs = test_pred\n",
    "            best_classification_report = classification_report(test_labels, test_pred, digits=4)\n",
    "        \n",
    "        del clf_if\n",
    "        gc.collect()\n",
    "\n",
    "    return best_params, score, best_classification_report\n"
   ]
  },
  {
   "cell_type": "markdown",
   "metadata": {},
   "source": [
    "#### 8.3.1.1. Results with Benign Train Samples"
   ]
  },
  {
   "cell_type": "code",
   "execution_count": 82,
   "metadata": {},
   "outputs": [
    {
     "data": {
      "text/plain": [
       "' \\n# call the function:\\nbest_params, best_score, best_report = find_best_cblof_parameters(\\n    n_clusters, contamination, benign_train_samples, test_samples, test_labels)\\n\\n# output the results:\\nprint(\"Best Parameters:\", best_params)\\nprint(\"Best F1 Score:\", best_score)\\nprint(\"Best Classification Report:\\n\", best_report)\\n\\n'"
      ]
     },
     "execution_count": 82,
     "metadata": {},
     "output_type": "execute_result"
    }
   ],
   "source": [
    "\"\"\" \n",
    "# call the function:\n",
    "best_params, best_score, best_report = find_best_cblof_parameters(\n",
    "    n_clusters, contamination, benign_train_samples, test_samples, test_labels)\n",
    "\n",
    "# output the results:\n",
    "print(\"Best Parameters:\", best_params)\n",
    "print(\"Best F1 Score:\", best_score)\n",
    "print(\"Best Classification Report:\\n\", best_report)\n",
    "\n",
    "\"\"\""
   ]
  },
  {
   "cell_type": "markdown",
   "metadata": {},
   "source": [
    "#### 8.3.1.2. Results with Normal Train Samples (with Attack Samples)"
   ]
  },
  {
   "cell_type": "code",
   "execution_count": 67,
   "metadata": {},
   "outputs": [
    {
     "name": "stderr",
     "output_type": "stream",
     "text": [
      "100%|██████████| 24/24 [18:24<00:00, 46.04s/it] "
     ]
    },
    {
     "name": "stdout",
     "output_type": "stream",
     "text": [
      "Best Parameters: {'n_clusters': 20, 'contamination': 0.04}\n",
      "Best F1 Score: 0.5119702368757941\n",
      "Best Classification Report:\n",
      "               precision    recall  f1-score   support\n",
      "\n",
      "           0     0.8842    0.9765    0.9281     99650\n",
      "           1     0.2549    0.0590    0.0959     13548\n",
      "\n",
      "    accuracy                         0.8667    113198\n",
      "   macro avg     0.5695    0.5178    0.5120    113198\n",
      "weighted avg     0.8089    0.8667    0.8285    113198\n",
      "\n"
     ]
    },
    {
     "name": "stderr",
     "output_type": "stream",
     "text": [
      "\n"
     ]
    }
   ],
   "source": [
    "\n",
    "# call the function:\n",
    "best_params, best_score, best_report = find_best_cblof_parameters(\n",
    "    n_estimators, contamination, normal_train_samples, test_samples, test_labels)\n",
    "\n",
    "# output the results:\n",
    "print(\"Best Parameters:\", best_params)\n",
    "print(\"Best F1 Score:\", best_score)\n",
    "print(\"Best Classification Report:\\n\", best_report)\n",
    "\n"
   ]
  },
  {
   "cell_type": "markdown",
   "metadata": {
    "id": "nd0-H7UT4mlc"
   },
   "source": [
    "### 8.3.2 Histagram-based Outlier Detection (HBOS) Model"
   ]
  },
  {
   "cell_type": "code",
   "execution_count": 68,
   "metadata": {},
   "outputs": [],
   "source": [
    "# fit a HBOS model, evaluate it, and find the best configuration based on the F1 score\n",
    "\n",
    "def find_best_hbos_parameters(n_bins, contamination, train_samples, test_samples, test_labels):\n",
    "    \"\"\"\n",
    "    Determine the best parameters for the HBOS model based on F1 score.\n",
    "\n",
    "    Parameters:\n",
    "    - n_bins (list): List of n_bins values to try.\n",
    "    - contamination (list): List of contamination fraction values to try.\n",
    "    - train_samples (DataFrame): Training data samples.\n",
    "    - test_samples (DataFrame): Testing data samples.\n",
    "    - test_labels (Series): True labels for the test data.\n",
    "\n",
    "    Returns:\n",
    "    - best_params (dict): Dictionary containing the best parameters.\n",
    "    - score (float): Best F1 score achieved.\n",
    "    - best_classification_report (str): Classification report for the best parameters.\n",
    "    \"\"\"\n",
    "    params = list(itertools.product(n_bins, contamination))\n",
    "    score = -1\n",
    "    best_classification_report = None\n",
    "    bs = None\n",
    "    best_params = None\n",
    "\n",
    "    for n_bin, con in tqdm(params):\n",
    "        clf_if = HBOS(n_bins=n_bin, contamination=con)\n",
    "        clf_if.fit(train_samples)\n",
    "        y_pred = clf_if.predict(test_samples)\n",
    "        test_pred = y_pred\n",
    "\n",
    "        f1 = f1_score(test_labels, test_pred, average='macro')\n",
    "\n",
    "        if f1 > score:\n",
    "            score = f1\n",
    "            best_params = {'n_bins': n_bin, \"contamination\": con}\n",
    "            bs = test_pred\n",
    "            best_classification_report = classification_report(test_labels, test_pred, digits=4)\n",
    "        \n",
    "        del clf_if\n",
    "        gc.collect()\n",
    "\n",
    "    return best_params, score, best_classification_report\n"
   ]
  },
  {
   "cell_type": "markdown",
   "metadata": {},
   "source": [
    "#### 8.3.2.1. Results with Benign Train Samples"
   ]
  },
  {
   "cell_type": "code",
   "execution_count": 69,
   "metadata": {},
   "outputs": [
    {
     "name": "stderr",
     "output_type": "stream",
     "text": [
      "100%|██████████| 36/36 [02:59<00:00,  4.99s/it]"
     ]
    },
    {
     "name": "stdout",
     "output_type": "stream",
     "text": [
      "Best Parameters: {'n_bins': 25, 'contamination': 0.01}\n",
      "Best F1 Score: 0.9405781421717173\n",
      "Best Classification Report:\n",
      "               precision    recall  f1-score   support\n",
      "\n",
      "           0     0.9837    0.9884    0.9860     99650\n",
      "           1     0.9117    0.8792    0.8951     13548\n",
      "\n",
      "    accuracy                         0.9753    113198\n",
      "   macro avg     0.9477    0.9338    0.9406    113198\n",
      "weighted avg     0.9750    0.9753    0.9752    113198\n",
      "\n"
     ]
    },
    {
     "name": "stderr",
     "output_type": "stream",
     "text": [
      "\n"
     ]
    }
   ],
   "source": [
    "# call the function:\n",
    "best_params, best_score, best_report = find_best_hbos_parameters(\n",
    "    n_bins, contamination, benign_train_samples, test_samples, test_labels)\n",
    "\n",
    "# output the results:\n",
    "print(\"Best Parameters:\", best_params)\n",
    "print(\"Best F1 Score:\", best_score)\n",
    "print(\"Best Classification Report:\\n\", best_report)"
   ]
  },
  {
   "cell_type": "markdown",
   "metadata": {},
   "source": [
    "#### 8.3.2.2. Results with Normal Train Samples"
   ]
  },
  {
   "cell_type": "code",
   "execution_count": 70,
   "metadata": {},
   "outputs": [
    {
     "name": "stderr",
     "output_type": "stream",
     "text": [
      "100%|██████████| 36/36 [07:51<00:00, 13.09s/it]"
     ]
    },
    {
     "name": "stdout",
     "output_type": "stream",
     "text": [
      "Best Parameters: {'n_bins': 5, 'contamination': 0.2}\n",
      "Best F1 Score: 0.7054789317819768\n",
      "Best Classification Report:\n",
      "               precision    recall  f1-score   support\n",
      "\n",
      "           0     0.9233    0.9527    0.9377     99650\n",
      "           1     0.5455    0.4178    0.4732     13548\n",
      "\n",
      "    accuracy                         0.8887    113198\n",
      "   macro avg     0.7344    0.6853    0.7055    113198\n",
      "weighted avg     0.8781    0.8887    0.8822    113198\n",
      "\n"
     ]
    },
    {
     "name": "stderr",
     "output_type": "stream",
     "text": [
      "\n"
     ]
    }
   ],
   "source": [
    "# call the function:\n",
    "best_params, best_score, best_report = find_best_hbos_parameters(\n",
    "    n_bins, contamination, normal_train_samples, test_samples, test_labels)\n",
    "\n",
    "# output the results:\n",
    "print(\"Best Parameters:\", best_params)\n",
    "print(\"Best F1 Score:\", best_score)\n",
    "print(\"Best Classification Report:\\n\", best_report)"
   ]
  },
  {
   "cell_type": "markdown",
   "metadata": {
    "id": "UbDOqrcy4mle"
   },
   "source": [
    "### 8.3.3. Principal Component Analysis (PCA) Model"
   ]
  },
  {
   "cell_type": "code",
   "execution_count": 71,
   "metadata": {},
   "outputs": [],
   "source": [
    "def find_best_pca_parameters(n_components, contamination_levels, train_samples, test_samples, test_labels):\n",
    "    \"\"\"\n",
    "    Determine the best parameters for the PCA model based on F1 score.\n",
    "\n",
    "    Parameters:\n",
    "    - n_components (list): List of n_components values to try.\n",
    "    - contamination_levels (list): List of contamination fraction values to try.\n",
    "    - train_samples (DataFrame): Training data samples.\n",
    "    - test_samples (DataFrame): Testing data samples.\n",
    "    - test_labels (Series): True labels for the test data.\n",
    "\n",
    "    Returns:\n",
    "    - best_params (dict): Dictionary containing the best parameters.\n",
    "    - score (float): Best F1 score achieved.\n",
    "    - best_classification_report (str): Classification report for the best parameters.\n",
    "    \"\"\"\n",
    "    params = list(itertools.product(n_components, contamination_levels))\n",
    "    score = -1\n",
    "    best_classification_report = None\n",
    "    bs = None\n",
    "    best_params = None\n",
    "\n",
    "    for n_component, con in tqdm(params):\n",
    "        clf_if = PCA(n_components=n_component, contamination=con)\n",
    "        clf_if.fit(train_samples)\n",
    "        y_pred = clf_if.predict(test_samples)\n",
    "        test_pred = y_pred\n",
    "\n",
    "        f1 = f1_score(test_labels, test_pred, average='macro')\n",
    "\n",
    "        if f1 > score:\n",
    "            score = f1\n",
    "            best_params = {'n_components': n_component, \"contamination\": con}\n",
    "            bs = test_pred\n",
    "            best_classification_report = classification_report(test_labels, test_pred, digits=4)\n",
    "        \n",
    "        del clf_if\n",
    "        gc.collect()\n",
    "\n",
    "    return best_params, score, best_classification_report\n"
   ]
  },
  {
   "cell_type": "markdown",
   "metadata": {},
   "source": [
    "#### 8.3.3.1. Results with Benign Train Samples"
   ]
  },
  {
   "cell_type": "code",
   "execution_count": 72,
   "metadata": {},
   "outputs": [
    {
     "name": "stderr",
     "output_type": "stream",
     "text": [
      "100%|██████████| 36/36 [01:40<00:00,  2.78s/it]"
     ]
    },
    {
     "name": "stdout",
     "output_type": "stream",
     "text": [
      "Best Parameters: {'n_components': 5, 'contamination': 0.01}\n",
      "Best F1 Score: 0.9405974979356783\n",
      "Best Classification Report:\n",
      "               precision    recall  f1-score   support\n",
      "\n",
      "           0     0.9837    0.9884    0.9860     99650\n",
      "           1     0.9117    0.8792    0.8952     13548\n",
      "\n",
      "    accuracy                         0.9754    113198\n",
      "   macro avg     0.9477    0.9338    0.9406    113198\n",
      "weighted avg     0.9750    0.9754    0.9752    113198\n",
      "\n"
     ]
    },
    {
     "name": "stderr",
     "output_type": "stream",
     "text": [
      "\n"
     ]
    }
   ],
   "source": [
    "# call the function\n",
    "best_params, best_score, best_report = find_best_pca_parameters(\n",
    "    n_components, contamination, benign_train_samples, test_samples, test_labels)\n",
    "\n",
    "# output the results\n",
    "print(\"Best Parameters:\", best_params)\n",
    "print(\"Best F1 Score:\", best_score)\n",
    "print(\"Best Classification Report:\\n\", best_report)"
   ]
  },
  {
   "cell_type": "markdown",
   "metadata": {},
   "source": [
    "#### 8.3.3.2. Results with Normal Train Samples"
   ]
  },
  {
   "cell_type": "code",
   "execution_count": 73,
   "metadata": {},
   "outputs": [
    {
     "name": "stderr",
     "output_type": "stream",
     "text": [
      "100%|██████████| 36/36 [07:18<00:00, 12.17s/it]"
     ]
    },
    {
     "name": "stdout",
     "output_type": "stream",
     "text": [
      "Best Parameters: {'n_components': 25, 'contamination': 0.2}\n",
      "Best F1 Score: 0.5337901112248085\n",
      "Best Classification Report:\n",
      "               precision    recall  f1-score   support\n",
      "\n",
      "           0     0.8872    0.9703    0.9269     99650\n",
      "           1     0.2970    0.0922    0.1407     13548\n",
      "\n",
      "    accuracy                         0.8652    113198\n",
      "   macro avg     0.5921    0.5313    0.5338    113198\n",
      "weighted avg     0.8165    0.8652    0.8328    113198\n",
      "\n"
     ]
    },
    {
     "name": "stderr",
     "output_type": "stream",
     "text": [
      "\n"
     ]
    }
   ],
   "source": [
    "# call the function\n",
    "best_params, best_score, best_report = find_best_pca_parameters(\n",
    "    n_components, contamination, normal_train_samples, test_samples, test_labels)\n",
    "\n",
    "# output the results\n",
    "print(\"Best Parameters:\", best_params)\n",
    "print(\"Best F1 Score:\", best_score)\n",
    "print(\"Best Classification Report:\\n\", best_report)"
   ]
  },
  {
   "cell_type": "markdown",
   "metadata": {
    "id": "yi8SO3tL4mlg"
   },
   "source": [
    "### 8.3.4. Isolation Forest (IF) Model"
   ]
  },
  {
   "cell_type": "code",
   "execution_count": 74,
   "metadata": {},
   "outputs": [],
   "source": [
    "def find_best_isolation_forest_parameters(n_estimators, contamination_levels, train_samples, test_samples, test_labels):\n",
    "    \"\"\"\n",
    "    Determine the best parameters for the Isolation Forest model based on F1 score.\n",
    "\n",
    "    Parameters:\n",
    "    - n_estimators (list): List of the number of estimators to try.\n",
    "    - contamination_levels (list): List of contamination fraction values to try.\n",
    "    - train_samples (DataFrame): Training data samples.\n",
    "    - test_samples (DataFrame): Testing data samples.\n",
    "    - test_labels (Series): True labels for the test data.\n",
    "\n",
    "    Returns:\n",
    "    - best_params (dict): Dictionary containing the best parameters.\n",
    "    - score (float): Best F1 score achieved.\n",
    "    - best_classification_report (str): Classification report for the best parameters.\n",
    "    \"\"\"\n",
    "    params = list(itertools.product(n_estimators, contamination_levels))\n",
    "    score = -1\n",
    "    best_classification_report = None\n",
    "    bs = None\n",
    "    best_params = None\n",
    "\n",
    "    for n_estimator, con in tqdm(params):\n",
    "        clf_if = IsolationForest(n_estimators=n_estimator, contamination=con)\n",
    "        clf_if.fit(train_samples)\n",
    "        y_pred = clf_if.predict(test_samples)\n",
    "        # Convert labels from -1 (outlier) and 1 (inlier) to 0 and 1\n",
    "        test_pred = list(map(lambda x: 0 if x == 1 else 1, y_pred))\n",
    "\n",
    "        f1 = f1_score(test_labels, test_pred, average='macro')\n",
    "\n",
    "        if f1 > score:\n",
    "            score = f1\n",
    "            best_params = {'n_estimators': n_estimator, \"contamination\": con}\n",
    "            bs = test_pred\n",
    "            best_classification_report = classification_report(test_labels, test_pred, digits=4)\n",
    "        \n",
    "        del clf_if\n",
    "        gc.collect()\n",
    "\n",
    "    return best_params, score, best_classification_report\n"
   ]
  },
  {
   "cell_type": "code",
   "execution_count": 75,
   "metadata": {},
   "outputs": [],
   "source": [
    "# define the range of n_estimators\n",
    "n_estimators = [20, 50, 100, 150]\n"
   ]
  },
  {
   "cell_type": "markdown",
   "metadata": {},
   "source": [
    "#### 8.3.4.1. Results with Benign Train Samples"
   ]
  },
  {
   "cell_type": "code",
   "execution_count": 76,
   "metadata": {},
   "outputs": [
    {
     "name": "stderr",
     "output_type": "stream",
     "text": [
      "100%|██████████| 24/24 [01:04<00:00,  2.70s/it]"
     ]
    },
    {
     "name": "stdout",
     "output_type": "stream",
     "text": [
      "Best Parameters: {'n_estimators': 20, 'contamination': 0.01}\n",
      "Best F1 Score: 0.9424306331690888\n",
      "Best Classification Report:\n",
      "               precision    recall  f1-score   support\n",
      "\n",
      "           0     0.9845    0.9884    0.9864     99650\n",
      "           1     0.9118    0.8854    0.8984     13548\n",
      "\n",
      "    accuracy                         0.9760    113198\n",
      "   macro avg     0.9482    0.9369    0.9424    113198\n",
      "weighted avg     0.9758    0.9760    0.9759    113198\n",
      "\n"
     ]
    },
    {
     "name": "stderr",
     "output_type": "stream",
     "text": [
      "\n"
     ]
    }
   ],
   "source": [
    "# Call the function:\n",
    "best_params, best_score, best_report = find_best_isolation_forest_parameters(\n",
    "    n_estimators, contamination, benign_train_samples, test_samples, test_labels)\n",
    "\n",
    "# Output the results:\n",
    "print(\"Best Parameters:\", best_params)\n",
    "print(\"Best F1 Score:\", best_score)\n",
    "print(\"Best Classification Report:\\n\", best_report)"
   ]
  },
  {
   "cell_type": "markdown",
   "metadata": {},
   "source": [
    "#### 8.3.4.2. Results with Normal Train Samples"
   ]
  },
  {
   "cell_type": "code",
   "execution_count": 77,
   "metadata": {},
   "outputs": [
    {
     "name": "stderr",
     "output_type": "stream",
     "text": [
      "100%|██████████| 24/24 [02:11<00:00,  5.48s/it]"
     ]
    },
    {
     "name": "stdout",
     "output_type": "stream",
     "text": [
      "Best Parameters: {'n_estimators': 100, 'contamination': 0.2}\n",
      "Best F1 Score: 0.6537917008332012\n",
      "Best Classification Report:\n",
      "               precision    recall  f1-score   support\n",
      "\n",
      "           0     0.9168    0.9189    0.9178     99650\n",
      "           1     0.3931    0.3865    0.3898     13548\n",
      "\n",
      "    accuracy                         0.8552    113198\n",
      "   macro avg     0.6549    0.6527    0.6538    113198\n",
      "weighted avg     0.8541    0.8552    0.8546    113198\n",
      "\n"
     ]
    },
    {
     "name": "stderr",
     "output_type": "stream",
     "text": [
      "\n"
     ]
    }
   ],
   "source": [
    "# Call the function:\n",
    "best_params, best_score, best_report = find_best_isolation_forest_parameters(\n",
    "    n_estimators, contamination, normal_train_samples, test_samples, test_labels)\n",
    "\n",
    "# Output the results:\n",
    "print(\"Best Parameters:\", best_params)\n",
    "print(\"Best F1 Score:\", best_score)\n",
    "print(\"Best Classification Report:\\n\", best_report)"
   ]
  }
 ],
 "metadata": {
  "accelerator": "GPU",
  "colab": {
   "provenance": []
  },
  "kernelspec": {
   "display_name": "Python 3 (ipykernel)",
   "language": "python",
   "name": "python3"
  },
  "language_info": {
   "codemirror_mode": {
    "name": "ipython",
    "version": 3
   },
   "file_extension": ".py",
   "mimetype": "text/x-python",
   "name": "python",
   "nbconvert_exporter": "python",
   "pygments_lexer": "ipython3",
   "version": "3.11.8"
  }
 },
 "nbformat": 4,
 "nbformat_minor": 4
}
