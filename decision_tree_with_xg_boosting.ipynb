{
  "cells": [
    {
      "cell_type": "code",
      "execution_count": null,
      "metadata": {
        "id": "2iXhSKIaU-hx"
      },
      "outputs": [],
      "source": [
        "import pandas as pd"
      ]
    },
    {
      "cell_type": "code",
      "execution_count": null,
      "metadata": {
        "id": "PJl9o7EkUZn_"
      },
      "outputs": [],
      "source": [
        "# importing the train and test data dataset from file\n",
        "train_val_csv = pd.read_csv('UNSW_NB15_training-set.csv')\n",
        "test_csv = pd.read_csv('UNSW_NB15_testing-set.csv')"
      ]
    },
    {
      "cell_type": "code",
      "execution_count": null,
      "metadata": {
        "id": "uxn7N34wVrCn"
      },
      "outputs": [],
      "source": [
        "train_val_csv=train_val_csv.drop(columns=['id', 'proto', 'service', 'state'])\n",
        "test_csv=test_csv.drop(columns=['id', 'proto', 'service', 'state'])\n",
        "\n",
        "# train_val_csv=train_val_csv.drop(columns=['id'])\n",
        "# test_csv=test_csv.drop(columns=['id'])"
      ]
    },
    {
      "cell_type": "code",
      "execution_count": null,
      "metadata": {
        "id": "N6uxzKC1sXWn"
      },
      "outputs": [],
      "source": [
        "from sklearn.model_selection import train_test_split"
      ]
    },
    {
      "cell_type": "code",
      "execution_count": null,
      "metadata": {
        "id": "AUwZSyofsRyY"
      },
      "outputs": [],
      "source": [
        "train,val = train_test_split(train_val_csv, test_size=0.2, random_state = 1)\n",
        "train_val_csv = train"
      ]
    },
    {
      "cell_type": "code",
      "execution_count": null,
      "metadata": {},
      "outputs": [],
      "source": [
        "print(len(train), 'training examples')\n",
        "print(len(val), 'validation examples')\n",
        "print(len(test_csv), 'test examples')"
      ]
    },
    {
      "cell_type": "code",
      "execution_count": null,
      "metadata": {
        "colab": {
          "base_uri": "https://localhost:8080/",
          "height": 255
        },
        "id": "rioMOxLhVDpk",
        "outputId": "b3f96d1a-0fde-4b7b-cfc9-a7a6b5ea956c"
      },
      "outputs": [],
      "source": [
        "train_val_csv.head(n=5)"
      ]
    },
    {
      "cell_type": "code",
      "execution_count": null,
      "metadata": {
        "colab": {
          "base_uri": "https://localhost:8080/"
        },
        "id": "L12Xsu3cVUjZ",
        "outputId": "04fa1d16-2ab4-409b-d811-59a739dea1c7"
      },
      "outputs": [],
      "source": [
        "train_val_csv.info()"
      ]
    },
    {
      "cell_type": "code",
      "execution_count": null,
      "metadata": {
        "colab": {
          "base_uri": "https://localhost:8080/"
        },
        "id": "DU-u95guWFI5",
        "outputId": "c335d854-2f7b-4898-f856-e157a9603346"
      },
      "outputs": [],
      "source": [
        "train_val_csv.isnull().sum()"
      ]
    },
    {
      "cell_type": "code",
      "execution_count": null,
      "metadata": {
        "colab": {
          "base_uri": "https://localhost:8080/"
        },
        "id": "-PH2xsDSWYYF",
        "outputId": "77ce3c45-7ce3-438c-8b70-9a594884e7b5"
      },
      "outputs": [],
      "source": [
        "train_val_csv.shape"
      ]
    },
    {
      "cell_type": "code",
      "execution_count": null,
      "metadata": {
        "colab": {
          "base_uri": "https://localhost:8080/"
        },
        "id": "tgfdTOBsWOFF",
        "outputId": "8ea5a28c-0d6c-447d-b2ca-5e391bcff4f0"
      },
      "outputs": [],
      "source": [
        "\n",
        "data_to_use = train_val_csv.dropna()\n",
        "\n",
        "# Shape of the data: we could see that the number of rows remains the same as no null values were reported\n",
        "data_to_use.shape"
      ]
    },
    {
      "cell_type": "code",
      "execution_count": null,
      "metadata": {
        "id": "8egpqZOlWjl-"
      },
      "outputs": [],
      "source": [
        "X = data_to_use.drop(axis=1, columns=['attack_cat']) # X is a dataframe\n",
        "X = X.drop(axis=1, columns=['label'])\n",
        "\n",
        "\n",
        "y1 = data_to_use['attack_cat'].values # y is an array\n",
        "y2 = data_to_use['label'].values"
      ]
    },
    {
      "cell_type": "code",
      "execution_count": null,
      "metadata": {},
      "outputs": [],
      "source": [
        "import numpy as np"
      ]
    },
    {
      "cell_type": "code",
      "execution_count": null,
      "metadata": {
        "colab": {
          "base_uri": "https://localhost:8080/"
        },
        "id": "hMPJ1aLlWiB6",
        "outputId": "65fb674a-40cf-415e-ef6c-b5eef71edcde"
      },
      "outputs": [],
      "source": [
        "unique_values = np.unique(y1)\n",
        "print(unique_values)"
      ]
    },
    {
      "cell_type": "code",
      "execution_count": null,
      "metadata": {
        "id": "CtwYPdVLWpAJ"
      },
      "outputs": [],
      "source": [
        "# Calculate Y2 ratio\n",
        "def data_ratio(y2):\n",
        "    '''\n",
        "    Calculate Y2's ratio\n",
        "    '''\n",
        "    unique, count = np.unique(y2, return_counts=True)\n",
        "    ratio = round(count[0]/count[1], 1)\n",
        "    return f'{ratio}:1 ({count[0]}/{count[1]})'"
      ]
    },
    {
      "cell_type": "code",
      "execution_count": null,
      "metadata": {
        "id": "BVzL4pkHWvqo"
      },
      "outputs": [],
      "source": [
        "import pandas as pd\n",
        "import numpy as np\n",
        "import seaborn as sns\n",
        "import matplotlib.pyplot as plt\n",
        "plt.style.use('ggplot')\n",
        "%matplotlib inline\n",
        "\n",
        "# sklearn: data preprocessing\n",
        "from sklearn.compose import ColumnTransformer\n",
        "from sklearn.preprocessing import StandardScaler, LabelEncoder, OneHotEncoder, MinMaxScaler\n",
        "\n",
        "# sklearn: train model\n",
        "from sklearn.model_selection import train_test_split\n",
        "from sklearn.model_selection import cross_val_score, cross_validate, StratifiedKFold\n",
        "from sklearn.metrics import precision_recall_curve, precision_score, recall_score, f1_score, accuracy_score\n",
        "from sklearn.metrics import roc_curve, auc, roc_auc_score, confusion_matrix, classification_report\n",
        "\n",
        "# sklearn classifiers\n",
        "\n",
        "from sklearn import tree\n",
        "from sklearn.tree import DecisionTreeClassifier\n",
        "\n",
        "from sklearn import datasets, ensemble, model_selection\n",
        "from sklearn.ensemble import RandomForestClassifier\n",
        "\n",
        "from sklearn.neural_network import MLPClassifier"
      ]
    },
    {
      "cell_type": "code",
      "execution_count": null,
      "metadata": {
        "colab": {
          "base_uri": "https://localhost:8080/",
          "height": 486
        },
        "id": "5C1s1O34WrDx",
        "outputId": "5d49d955-bf2e-466d-ac53-56a56086cef6"
      },
      "outputs": [],
      "source": [
        "# print('The class ratio for the original data:', data_ratio(y1))\n",
        "# plt.figure(figsize=(13,5))\n",
        "# sns.countplot(y1,label=\"Sum\")\n",
        "# plt.show()\n",
        "\n",
        "# # print('The class ratio for the original data:', data_ratio(y2))\n",
        "# # sns.countplot(y2,label=\"Sum\")\n",
        "# # plt.show()"
      ]
    },
    {
      "cell_type": "code",
      "execution_count": null,
      "metadata": {
        "id": "XoHBpckZXv4l"
      },
      "outputs": [],
      "source": [
        "# test_data = pd.read_csv('UNSW_NB15_testing.csv')\n",
        "X_test = test_csv.drop(axis=1, columns=['attack_cat']) # X_test is a dataframe\n",
        "X_test = X_test.drop(axis=1, columns=['label'])\n",
        "\n",
        "\n",
        "y1_test = test_csv['attack_cat'].values # y is an array\n",
        "y2_test = test_csv['label'].values"
      ]
    },
    {
      "cell_type": "code",
      "execution_count": null,
      "metadata": {},
      "outputs": [],
      "source": [
        "X_val = val.drop(axis=1, columns=['attack_cat'])\n",
        "X_val = X_val.drop(axis=1, columns=['label'])\n",
        "\n",
        "y1_val = val['attack_cat'].values # y is an array\n",
        "y2_val = val['label'].values"
      ]
    },
    {
      "cell_type": "code",
      "execution_count": null,
      "metadata": {
        "id": "UBDYwFyvYF3P"
      },
      "outputs": [],
      "source": [
        "X_train = X\n",
        "y1_train = y1\n",
        "y2_train = y2"
      ]
    },
    {
      "cell_type": "code",
      "execution_count": null,
      "metadata": {
        "id": "uywKz5hXYc7w"
      },
      "outputs": [],
      "source": [
        "numerical_cols = X_train.select_dtypes(include=['int64', 'float64']).columns\n",
        "categorical_cols = X_train.select_dtypes(include=['object', 'bool']).columns"
      ]
    },
    {
      "cell_type": "code",
      "execution_count": null,
      "metadata": {
        "colab": {
          "base_uri": "https://localhost:8080/",
          "height": 117
        },
        "id": "Gk5MzgDFYszk",
        "outputId": "0b7565c0-d6bd-4495-b218-aa77073c5b44"
      },
      "outputs": [],
      "source": [
        "# define the transformation methods for the columns\n",
        "t = [('ohe', OneHotEncoder(drop='first', handle_unknown='ignore'), categorical_cols),\n",
        "    ('scale', MinMaxScaler(), numerical_cols)]\n",
        "\n",
        "col_trans = ColumnTransformer(transformers=t)\n",
        "\n",
        "# fit the transformation on training data\n",
        "col_trans.fit(X_train)"
      ]
    },
    {
      "cell_type": "code",
      "execution_count": null,
      "metadata": {
        "id": "8nldLxjdYy0M"
      },
      "outputs": [],
      "source": [
        "X_train_transform = col_trans.transform(X_train)"
      ]
    },
    {
      "cell_type": "code",
      "execution_count": null,
      "metadata": {
        "id": "DeRYo4ZeY04Z"
      },
      "outputs": [],
      "source": [
        "X_test_transform = col_trans.transform(X_test)"
      ]
    },
    {
      "cell_type": "code",
      "execution_count": null,
      "metadata": {},
      "outputs": [],
      "source": [
        "X_val_transform = col_trans.transform(X_val)"
      ]
    },
    {
      "cell_type": "code",
      "execution_count": null,
      "metadata": {
        "colab": {
          "base_uri": "https://localhost:8080/",
          "height": 74
        },
        "id": "KMAwiS3TZIHa",
        "outputId": "b53758fe-095e-467e-af4f-6810308441e9"
      },
      "outputs": [],
      "source": [
        "target_trans = LabelEncoder()\n",
        "target_trans.fit(y1_train)"
      ]
    },
    {
      "cell_type": "code",
      "execution_count": null,
      "metadata": {
        "id": "soMBoVVjZa_Q"
      },
      "outputs": [],
      "source": [
        "y1_train_transform = target_trans.transform(y1_train)\n",
        "y1_test_transform = target_trans.transform(y1_test)\n",
        "y1_val_transform = target_trans.transform(y1_val)"
      ]
    },
    {
      "cell_type": "code",
      "execution_count": null,
      "metadata": {
        "id": "f4zbP9vhZoU4"
      },
      "outputs": [],
      "source": [
        "target_trans = LabelEncoder()\n",
        "target_trans.fit(y2_train)\n",
        "y2_train_transform = target_trans.transform(y2_train)\n",
        "y2_test_transform = target_trans.transform(y2_test)"
      ]
    },
    {
      "cell_type": "code",
      "execution_count": null,
      "metadata": {
        "colab": {
          "base_uri": "https://localhost:8080/"
        },
        "id": "6eY3oAvBZpwI",
        "outputId": "c749cbe4-f7b2-40f7-e090-50cad696539f"
      },
      "outputs": [],
      "source": [
        "y2_train_transform"
      ]
    },
    {
      "cell_type": "markdown",
      "metadata": {
        "id": "_JX5gC4YaDrw"
      },
      "source": [
        "XGBoost Classifier\n"
      ]
    },
    {
      "cell_type": "code",
      "execution_count": null,
      "metadata": {
        "id": "2VhH4MDXa-SF"
      },
      "outputs": [],
      "source": [
        "from numpy import loadtxt\n",
        "from xgboost import XGBClassifier\n",
        "from matplotlib import pyplot"
      ]
    },
    {
      "cell_type": "code",
      "execution_count": null,
      "metadata": {
        "colab": {
          "base_uri": "https://localhost:8080/",
          "height": 248
        },
        "id": "prZ7sj8gbA70",
        "outputId": "39a7e905-8436-4dd7-8dcc-5f5a45114c62"
      },
      "outputs": [],
      "source": [
        "model = XGBClassifier()\n",
        "model.fit(X_train_transform, y1_train_transform)"
      ]
    },
    {
      "cell_type": "code",
      "execution_count": null,
      "metadata": {
        "id": "3isBJBO4bEu6"
      },
      "outputs": [],
      "source": [
        "from xgboost import plot_importance\n",
        "from matplotlib import pyplot"
      ]
    },
    {
      "cell_type": "markdown",
      "metadata": {
        "id": "cYofhp9-lu1r"
      },
      "source": [
        "Decision Tree Classifer"
      ]
    },
    {
      "cell_type": "code",
      "execution_count": null,
      "metadata": {
        "id": "7oOYhiYalt7E"
      },
      "outputs": [],
      "source": [
        "# Create Decision Tree classifer object\n",
        "DTclf = DecisionTreeClassifier()\n",
        "\n",
        "# Train Decision Tree Classifer\n",
        "DTclf = DTclf.fit(X_train_transform, y1_train_transform)\n",
        "\n",
        "y_pred_val = DTclf.predict(X_val_transform)\n",
        "\n",
        "#Predict the response for test dataset\n",
        "y_pred = DTclf.predict(X_test_transform)"
      ]
    },
    {
      "cell_type": "code",
      "execution_count": null,
      "metadata": {
        "id": "DuQDDvKBmrUE"
      },
      "outputs": [],
      "source": [
        "from sklearn.metrics import accuracy_score, precision_score, recall_score, roc_auc_score, average_precision_score, f1_score"
      ]
    },
    {
      "cell_type": "code",
      "execution_count": null,
      "metadata": {
        "id": "q-8ZsOsXmh6D"
      },
      "outputs": [],
      "source": [
        "def calculate_classification_metrics(y_true, y_pred):\n",
        "    # Calculate accuracy\n",
        "    accuracy = accuracy_score(y_true, y_pred)\n",
        "\n",
        "    # Calculate precision\n",
        "    precision = precision_score(y_true, y_pred, average='weighted')\n",
        "\n",
        "    # Calculate recall\n",
        "    recall = recall_score(y_true, y_pred, average='weighted')\n",
        "\n",
        "\n",
        "    # Calculate f1 score\n",
        "    f1 = f1_score(y_true, y_pred, average='weighted')\n",
        "\n",
        "    # Calculate macro F1 score\n",
        "    macro_f1_score = f1_score(y_true, y_pred, average='macro')\n",
        "\n",
        "    return accuracy, precision, recall, f1, macro_f1_score"
      ]
    },
    {
      "cell_type": "code",
      "execution_count": null,
      "metadata": {},
      "outputs": [],
      "source": [
        "y_train_predict = DTclf.predict(X_train_transform)"
      ]
    },
    {
      "cell_type": "code",
      "execution_count": null,
      "metadata": {},
      "outputs": [],
      "source": [
        "accuracy, precision, recall, f1, macro_f1 = calculate_classification_metrics(y1_train_transform, y_train_predict)\n",
        "print(\"For Train Dataset: \")\n",
        "print(f\"Accuracy: {accuracy}\")\n",
        "print(f\"Precision: {precision}\")\n",
        "print(f\"Recall: {recall}\")\n",
        "# print(f\"AUC: {auc}\")\n",
        "# print(f\"PRC: {prc}\")\n",
        "print(f\"f1: {f1}\")\n",
        "print(f\"macro_f1: {macro_f1}\")\n",
        "\n",
        "print(\"-----------------\")"
      ]
    },
    {
      "cell_type": "code",
      "execution_count": null,
      "metadata": {},
      "outputs": [],
      "source": [
        "# Calculate accuracy\n",
        "accuracy, precision, recall, f1, macro_f1 = calculate_classification_metrics(y1_val_transform, y_pred_val)\n",
        "print(\"For Validation Dataset: \")\n",
        "print(f\"Accuracy: {accuracy}\")\n",
        "print(f\"Precision: {precision}\")\n",
        "print(f\"Recall: {recall}\")\n",
        "# print(f\"AUC: {auc}\")\n",
        "# print(f\"PRC: {prc}\")\n",
        "print(f\"f1: {f1}\")\n",
        "\n",
        "\n",
        "print(\"-----------------\")"
      ]
    },
    {
      "cell_type": "code",
      "execution_count": null,
      "metadata": {
        "colab": {
          "base_uri": "https://localhost:8080/"
        },
        "id": "O5GsP-xDmoeh",
        "outputId": "5c868a1e-5bda-410c-c424-920b4a2f2ff4"
      },
      "outputs": [],
      "source": [
        "# Calculate accuracy\n",
        "accuracy, precision, recall, f1, macro_f1 = calculate_classification_metrics(y1_test_transform, y_pred)\n",
        "print(\"For Testing Dataset: \")\n",
        "print(f\"Accuracy: {accuracy}\")\n",
        "print(f\"Precision: {precision}\")\n",
        "print(f\"Recall: {recall}\")\n",
        "# print(f\"AUC: {auc}\")\n",
        "# print(f\"PRC: {prc}\")\n",
        "print(f\"f1: {f1}\")\n",
        "\n",
        "print(\"-----------------\")"
      ]
    },
    {
      "cell_type": "markdown",
      "metadata": {
        "id": "mNjJ5MSBGCi5"
      },
      "source": [
        "**For Important Feature Selection**"
      ]
    },
    {
      "cell_type": "code",
      "execution_count": null,
      "metadata": {
        "id": "Om2M079CnE-O"
      },
      "outputs": [],
      "source": [
        "from numpy import sort"
      ]
    },
    {
      "cell_type": "code",
      "execution_count": null,
      "metadata": {
        "id": "4LSOPCkrmyMN"
      },
      "outputs": [],
      "source": [
        "thresholds = sort(model.feature_importances_)"
      ]
    },
    {
      "cell_type": "code",
      "execution_count": null,
      "metadata": {
        "colab": {
          "base_uri": "https://localhost:8080/"
        },
        "id": "PchKdcnqnGju",
        "outputId": "f5a47911-9971-4a77-83cd-6972dcab1514"
      },
      "outputs": [],
      "source": [
        "print(thresholds)"
      ]
    },
    {
      "cell_type": "code",
      "execution_count": null,
      "metadata": {
        "id": "-aKAj00JnK1D"
      },
      "outputs": [],
      "source": [
        "from sklearn.feature_selection import SelectFromModel"
      ]
    },
    {
      "cell_type": "code",
      "execution_count": null,
      "metadata": {
        "colab": {
          "base_uri": "https://localhost:8080/"
        },
        "id": "6BSdrfCXnNaI",
        "outputId": "65e9216e-10fc-4cd2-c056-e99278b4e36e"
      },
      "outputs": [],
      "source": [
        "selection = SelectFromModel(model, threshold=0.0057178, prefit=True)\n",
        "# print(X_train_transform[0])\n",
        "select_X_train = selection.transform(X_train_transform)\n",
        "# print(select_X_train[0])\n",
        "select_X_test = selection.transform(X_test_transform)\n",
        "print(select_X_train.shape, select_X_test.shape)\n",
        "\n",
        "select_X_val = selection.transform(X_val_transform)"
      ]
    },
    {
      "cell_type": "markdown",
      "metadata": {
        "id": "ak0u6G7un16f"
      },
      "source": [
        "After feature selection"
      ]
    },
    {
      "cell_type": "code",
      "execution_count": null,
      "metadata": {
        "id": "DGoPPbZdnqTc"
      },
      "outputs": [],
      "source": [
        "# Create Decision Tree classifer object\n",
        "selectDT = DecisionTreeClassifier()\n",
        "\n",
        "# Train Decision Tree Classifer\n",
        "selectDT = selectDT.fit(select_X_train, y1_train_transform)\n",
        "\n",
        "#Predict the response for test dataset\n",
        "y_pred = selectDT.predict(select_X_test)\n",
        "y_pred_val = selectDT.predict(select_X_val)"
      ]
    },
    {
      "cell_type": "code",
      "execution_count": null,
      "metadata": {},
      "outputs": [],
      "source": [
        "y_train_pred = selectDT.predict(select_X_train)"
      ]
    },
    {
      "cell_type": "code",
      "execution_count": null,
      "metadata": {},
      "outputs": [],
      "source": [
        "accuracy, precision, recall, f1, macro_f1 = calculate_classification_metrics(y1_train_transform, y_train_pred)\n",
        "print(\"For Training Dataset (After selecting important features): \")\n",
        "print(f\"Accuracy: {accuracy}\")\n",
        "print(f\"Precision: {precision}\")\n",
        "print(f\"Recall: {recall}\")\n",
        "print(f\"f1: {f1}\")\n",
        "\n",
        "print(\"-----------------\")"
      ]
    },
    {
      "cell_type": "code",
      "execution_count": null,
      "metadata": {},
      "outputs": [],
      "source": [
        "accuracy, precision, recall, f1, macro_f1 = calculate_classification_metrics(y1_val_transform, y_pred_val)\n",
        "print(\"For validation Dataset (After selecting important features): \")\n",
        "print(f\"Accuracy: {accuracy}\")\n",
        "print(f\"Precision: {precision}\")\n",
        "print(f\"Recall: {recall}\")\n",
        "print(f\"f1: {f1}\")\n",
        "\n",
        "print(\"-----------------\")"
      ]
    },
    {
      "cell_type": "code",
      "execution_count": null,
      "metadata": {
        "colab": {
          "base_uri": "https://localhost:8080/"
        },
        "id": "icVqi_2_oTYg",
        "outputId": "6e91da90-bca9-44ec-f601-670a921d21d8"
      },
      "outputs": [],
      "source": [
        "accuracy, precision, recall, f1, macro_f1 = calculate_classification_metrics(y1_test_transform, y_pred)\n",
        "print(\"For testing Dataset (After selecting important features): \")\n",
        "print(f\"Accuracy: {accuracy}\")\n",
        "print(f\"Precision: {precision}\")\n",
        "print(f\"Recall: {recall}\")\n",
        "print(f\"f1: {f1}\")\n",
        "\n",
        "\n",
        "print(\"-----------------\")"
      ]
    }
  ],
  "metadata": {
    "colab": {
      "provenance": []
    },
    "kernelspec": {
      "display_name": "Python 3",
      "name": "python3"
    },
    "language_info": {
      "codemirror_mode": {
        "name": "ipython",
        "version": 3
      },
      "file_extension": ".py",
      "mimetype": "text/x-python",
      "name": "python",
      "nbconvert_exporter": "python",
      "pygments_lexer": "ipython3",
      "version": "3.11.8"
    }
  },
  "nbformat": 4,
  "nbformat_minor": 0
}
